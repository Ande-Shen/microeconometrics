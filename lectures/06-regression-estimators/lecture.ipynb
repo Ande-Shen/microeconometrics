{
 "cells": [
  {
   "cell_type": "code",
   "execution_count": 2,
   "metadata": {
    "pycharm": {},
    "slideshow": {
     "slide_type": "skip"
    }
   },
   "outputs": [
    {
     "ename": "SyntaxError",
     "evalue": "invalid syntax (<ipython-input-2-2a2629310888>, line 6)",
     "output_type": "error",
     "traceback": [
      "\u001b[0;36m  File \u001b[0;32m\"<ipython-input-2-2a2629310888>\"\u001b[0;36m, line \u001b[0;32m6\u001b[0m\n\u001b[0;31m    from auxiliary import\u001b[0m\n\u001b[0m                          ^\u001b[0m\n\u001b[0;31mSyntaxError\u001b[0m\u001b[0;31m:\u001b[0m invalid syntax\n"
     ]
    },
    {
     "name": "stderr",
     "output_type": "stream",
     "text": [
      "ERROR:root:Cannot parse: 6:22: from auxiliary import \n",
      "Traceback (most recent call last):\n",
      "  File \"/home/peisenha/local/anaconda3/envs/teaching-microeconometrics/lib/python3.7/site-packages/lab_black.py\", line 218, in format_cell\n",
      "    formatted_code = _format_code(cell)\n",
      "  File \"/home/peisenha/local/anaconda3/envs/teaching-microeconometrics/lib/python3.7/site-packages/lab_black.py\", line 29, in _format_code\n",
      "    return format_str(src_contents=code, mode=FileMode())\n",
      "  File \"/home/peisenha/local/anaconda3/envs/teaching-microeconometrics/lib/python3.7/site-packages/black.py\", line 725, in format_str\n",
      "    src_node = lib2to3_parse(src_contents.lstrip(), mode.target_versions)\n",
      "  File \"/home/peisenha/local/anaconda3/envs/teaching-microeconometrics/lib/python3.7/site-packages/black.py\", line 836, in lib2to3_parse\n",
      "    raise exc from None\n",
      "black.InvalidInput: Cannot parse: 6:22: from auxiliary import \n"
     ]
    }
   ],
   "source": [
    "import statsmodels.formula.api as smf\n",
    "import pandas as pd\n",
    "import numpy as np\n",
    "\n",
    "from auxiliary import plot_conditional_expectation_demonstration_1\n",
    "from auxiliary import plot_predictions_demonstration_1\n",
    "from auxiliary import get_sample_regression_adjustment\n",
    "from auxiliary import get_sample_demonstration_1\n",
    "from auxiliary import plot_freedman_exercise\n",
    "from auxiliary import plot_anscombe_dataset\n",
    "from auxiliary import get_anscombe_datasets\n",
    "from auxiliary import run_freedman_exercise\n",
    "\n",
    "np.random.seed(123)"
   ]
  },
  {
   "cell_type": "markdown",
   "metadata": {
    "pycharm": {},
    "slideshow": {
     "slide_type": "slide"
    }
   },
   "source": [
    "# Regression estimators of causal effects"
   ]
  },
  {
   "cell_type": "markdown",
   "metadata": {
    "pycharm": {},
    "slideshow": {
     "slide_type": "slide"
    }
   },
   "source": [
    "**Overview**\n",
    "\n",
    "* Regression as a descriptive tool\n",
    "\n",
    "* Regression adjustment as a strategy to to estimate causal effects\n",
    "\n",
    "* Regression as conditional-variance-weighted matching\n",
    "\n",
    "* Regression as an implementation of a perfect stratification\n",
    "\n",
    "* Regression as supplemental adjustment when matching\n",
    "\n",
    "* Extensions and other perspectives\n",
    "\n",
    "* Conclusion\n",
    "    "
   ]
  },
  {
   "cell_type": "markdown",
   "metadata": {
    "pycharm": {},
    "slideshow": {
     "slide_type": "slide"
    }
   },
   "source": [
    "We start with different ways of using regression\n",
    "\n",
    "* descriptive tools\n",
    "    * Anscombe quartet\n",
    "    \n",
    "* estimating causal effects\n",
    "\n",
    "* Freedman's paradox"
   ]
  },
  {
   "cell_type": "markdown",
   "metadata": {
    "pycharm": {},
    "slideshow": {
     "slide_type": "slide"
    }
   },
   "source": [
    "## Regression as a descriptive tool\n",
    "\n",
    "Goldberger (1991) motivates least squares regression as a technique to estimate a best-fitting \n",
    "linear approximation to a conditional expectation function that may be nonlinear in the population."
   ]
  },
  {
   "cell_type": "markdown",
   "metadata": {
    "pycharm": {},
    "slideshow": {
     "slide_type": "slide"
    }
   },
   "source": [
    "<img src=\"material/regression_demonstration_one.png\" height=300 width=300 />"
   ]
  },
  {
   "cell_type": "code",
   "execution_count": 2,
   "metadata": {
    "pycharm": {},
    "slideshow": {
     "slide_type": "slide"
    }
   },
   "outputs": [
    {
     "data": {
      "text/html": [
       "<div>\n",
       "<style scoped>\n",
       "    .dataframe tbody tr th:only-of-type {\n",
       "        vertical-align: middle;\n",
       "    }\n",
       "\n",
       "    .dataframe tbody tr th {\n",
       "        vertical-align: top;\n",
       "    }\n",
       "\n",
       "    .dataframe thead th {\n",
       "        text-align: right;\n",
       "    }\n",
       "</style>\n",
       "<table border=\"1\" class=\"dataframe\">\n",
       "  <thead>\n",
       "    <tr style=\"text-align: right;\">\n",
       "      <th></th>\n",
       "      <th>Y</th>\n",
       "      <th>D</th>\n",
       "      <th>S</th>\n",
       "      <th>Y_1</th>\n",
       "      <th>Y_0</th>\n",
       "    </tr>\n",
       "  </thead>\n",
       "  <tbody>\n",
       "    <tr>\n",
       "      <th>0</th>\n",
       "      <td>7.047903</td>\n",
       "      <td>1</td>\n",
       "      <td>2</td>\n",
       "      <td>7.047903</td>\n",
       "      <td>5.254559</td>\n",
       "    </tr>\n",
       "    <tr>\n",
       "      <th>1</th>\n",
       "      <td>11.651437</td>\n",
       "      <td>0</td>\n",
       "      <td>3</td>\n",
       "      <td>13.421400</td>\n",
       "      <td>11.651437</td>\n",
       "    </tr>\n",
       "    <tr>\n",
       "      <th>2</th>\n",
       "      <td>13.795799</td>\n",
       "      <td>1</td>\n",
       "      <td>3</td>\n",
       "      <td>13.795799</td>\n",
       "      <td>11.979348</td>\n",
       "    </tr>\n",
       "    <tr>\n",
       "      <th>3</th>\n",
       "      <td>5.133260</td>\n",
       "      <td>0</td>\n",
       "      <td>2</td>\n",
       "      <td>9.265936</td>\n",
       "      <td>5.133260</td>\n",
       "    </tr>\n",
       "    <tr>\n",
       "      <th>4</th>\n",
       "      <td>5.380809</td>\n",
       "      <td>0</td>\n",
       "      <td>2</td>\n",
       "      <td>7.856628</td>\n",
       "      <td>5.380809</td>\n",
       "    </tr>\n",
       "  </tbody>\n",
       "</table>\n",
       "</div>"
      ],
      "text/plain": [
       "           Y  D  S        Y_1        Y_0\n",
       "0   7.047903  1  2   7.047903   5.254559\n",
       "1  11.651437  0  3  13.421400  11.651437\n",
       "2  13.795799  1  3  13.795799  11.979348\n",
       "3   5.133260  0  2   9.265936   5.133260\n",
       "4   5.380809  0  2   7.856628   5.380809"
      ]
     },
     "execution_count": 2,
     "metadata": {},
     "output_type": "execute_result"
    }
   ],
   "source": [
    "df = get_sample_demonstration_1(num_agents=10000)\n",
    "df.head()"
   ]
  },
  {
   "cell_type": "code",
   "execution_count": 3,
   "metadata": {
    "pycharm": {},
    "slideshow": {
     "slide_type": "slide"
    }
   },
   "outputs": [
    {
     "data": {
      "text/plain": [
       "D  S\n",
       "0  1     2.019014\n",
       "   2     6.017456\n",
       "   3     9.977920\n",
       "1  1     4.026830\n",
       "   2     8.001276\n",
       "   3    13.980587\n",
       "Name: Y, dtype: float64"
      ]
     },
     "execution_count": 3,
     "metadata": {},
     "output_type": "execute_result"
    }
   ],
   "source": [
    "df.groupby([\"D\", \"S\"])[\"Y\"].mean()"
   ]
  },
  {
   "cell_type": "markdown",
   "metadata": {
    "pycharm": {},
    "slideshow": {
     "slide_type": "slide"
    }
   },
   "source": [
    "How does the functional form of the conditional expectation look like?"
   ]
  },
  {
   "cell_type": "code",
   "execution_count": 4,
   "metadata": {
    "pycharm": {},
    "slideshow": {
     "slide_type": "slide"
    }
   },
   "outputs": [
    {
     "data": {
      "image/png": "[encoded data removed]",
      "text/plain": [
       "<Figure size 432x288 with 1 Axes>"
      ]
     },
     "metadata": {
      "needs_background": "light"
     },
     "output_type": "display_data"
    }
   ],
   "source": [
    "plot_conditional_expectation_demonstration_1(df)"
   ]
  },
  {
   "cell_type": "markdown",
   "metadata": {
    "pycharm": {},
    "slideshow": {
     "slide_type": "-"
    }
   },
   "source": [
    "What does the difference between the two lines tell us about treatment effect heterogeneity?"
   ]
  },
  {
   "cell_type": "markdown",
   "metadata": {
    "pycharm": {},
    "slideshow": {
     "slide_type": "slide"
    }
   },
   "source": [
    "We will fit four different prediction models using ordinary least squares.\n",
    "\n",
    "\\begin{align*}\n",
    "&\\hat{Y} = \\beta_0 + \\beta_1 D + \\beta_2 S \\\\\n",
    "&\\hat{Y} = \\beta_0 + \\beta_1 D + \\beta_2 S_1 + \\beta_3 S_2 \\\\\n",
    "&\\hat{Y} = \\beta_0 + \\beta_1 D + \\beta_2 S_1 + \\beta_3 S_2 + \\beta_4 S_1 * D + \\beta_5 S_2 * D  \n",
    "\\end{align*}\n"
   ]
  },
  {
   "cell_type": "code",
   "execution_count": 5,
   "metadata": {
    "pycharm": {},
    "slideshow": {
     "slide_type": "slide"
    }
   },
   "outputs": [
    {
     "data": {
      "text/html": [
       "<table class=\"simpletable\">\n",
       "<caption>OLS Regression Results</caption>\n",
       "<tr>\n",
       "  <th>Dep. Variable:</th>            <td>Y</td>        <th>  R-squared:         </th> <td>   0.942</td> \n",
       "</tr>\n",
       "<tr>\n",
       "  <th>Model:</th>                   <td>OLS</td>       <th>  Adj. R-squared:    </th> <td>   0.942</td> \n",
       "</tr>\n",
       "<tr>\n",
       "  <th>Method:</th>             <td>Least Squares</td>  <th>  F-statistic:       </th> <td>8.162e+04</td>\n",
       "</tr>\n",
       "<tr>\n",
       "  <th>Date:</th>             <td>Tue, 28 Apr 2020</td> <th>  Prob (F-statistic):</th>  <td>  0.00</td>  \n",
       "</tr>\n",
       "<tr>\n",
       "  <th>Time:</th>                 <td>13:13:20</td>     <th>  Log-Likelihood:    </th> <td> -15331.</td> \n",
       "</tr>\n",
       "<tr>\n",
       "  <th>No. Observations:</th>      <td> 10000</td>      <th>  AIC:               </th> <td>3.067e+04</td>\n",
       "</tr>\n",
       "<tr>\n",
       "  <th>Df Residuals:</th>          <td>  9997</td>      <th>  BIC:               </th> <td>3.069e+04</td>\n",
       "</tr>\n",
       "<tr>\n",
       "  <th>Df Model:</th>              <td>     2</td>      <th>                     </th>     <td> </td>    \n",
       "</tr>\n",
       "<tr>\n",
       "  <th>Covariance Type:</th>      <td>nonrobust</td>    <th>                     </th>     <td> </td>    \n",
       "</tr>\n",
       "</table>\n",
       "<table class=\"simpletable\">\n",
       "<tr>\n",
       "      <td></td>         <th>coef</th>     <th>std err</th>      <th>t</th>      <th>P>|t|</th>  <th>[0.025</th>    <th>0.975]</th>  \n",
       "</tr>\n",
       "<tr>\n",
       "  <th>Intercept</th> <td>   -2.6768</td> <td>    0.027</td> <td> -100.048</td> <td> 0.000</td> <td>   -2.729</td> <td>   -2.624</td>\n",
       "</tr>\n",
       "<tr>\n",
       "  <th>D</th>         <td>    2.6950</td> <td>    0.025</td> <td>  107.753</td> <td> 0.000</td> <td>    2.646</td> <td>    2.744</td>\n",
       "</tr>\n",
       "<tr>\n",
       "  <th>S</th>         <td>    4.4325</td> <td>    0.014</td> <td>  313.055</td> <td> 0.000</td> <td>    4.405</td> <td>    4.460</td>\n",
       "</tr>\n",
       "</table>\n",
       "<table class=\"simpletable\">\n",
       "<tr>\n",
       "  <th>Omnibus:</th>       <td> 5.215</td> <th>  Durbin-Watson:     </th> <td>   2.018</td>\n",
       "</tr>\n",
       "<tr>\n",
       "  <th>Prob(Omnibus):</th> <td> 0.074</td> <th>  Jarque-Bera (JB):  </th> <td>   5.016</td>\n",
       "</tr>\n",
       "<tr>\n",
       "  <th>Skew:</th>          <td>-0.031</td> <th>  Prob(JB):          </th> <td>  0.0814</td>\n",
       "</tr>\n",
       "<tr>\n",
       "  <th>Kurtosis:</th>      <td> 2.910</td> <th>  Cond. No.          </th> <td>    6.14</td>\n",
       "</tr>\n",
       "</table><br/><br/>Warnings:<br/>[1] Standard Errors assume that the covariance matrix of the errors is correctly specified."
      ],
      "text/plain": [
       "<class 'statsmodels.iolib.summary.Summary'>\n",
       "\"\"\"\n",
       "                            OLS Regression Results                            \n",
       "==============================================================================\n",
       "Dep. Variable:                      Y   R-squared:                       0.942\n",
       "Model:                            OLS   Adj. R-squared:                  0.942\n",
       "Method:                 Least Squares   F-statistic:                 8.162e+04\n",
       "Date:                Tue, 28 Apr 2020   Prob (F-statistic):               0.00\n",
       "Time:                        13:13:20   Log-Likelihood:                -15331.\n",
       "No. Observations:               10000   AIC:                         3.067e+04\n",
       "Df Residuals:                    9997   BIC:                         3.069e+04\n",
       "Df Model:                           2                                         \n",
       "Covariance Type:            nonrobust                                         \n",
       "==============================================================================\n",
       "                 coef    std err          t      P>|t|      [0.025      0.975]\n",
       "------------------------------------------------------------------------------\n",
       "Intercept     -2.6768      0.027   -100.048      0.000      -2.729      -2.624\n",
       "D              2.6950      0.025    107.753      0.000       2.646       2.744\n",
       "S              4.4325      0.014    313.055      0.000       4.405       4.460\n",
       "==============================================================================\n",
       "Omnibus:                        5.215   Durbin-Watson:                   2.018\n",
       "Prob(Omnibus):                  0.074   Jarque-Bera (JB):                5.016\n",
       "Skew:                          -0.031   Prob(JB):                       0.0814\n",
       "Kurtosis:                       2.910   Cond. No.                         6.14\n",
       "==============================================================================\n",
       "\n",
       "Warnings:\n",
       "[1] Standard Errors assume that the covariance matrix of the errors is correctly specified.\n",
       "\"\"\""
      ]
     },
     "execution_count": 5,
     "metadata": {},
     "output_type": "execute_result"
    }
   ],
   "source": [
    "rslt = smf.ols(formula=\"Y ~ D + S\", data=df).fit()\n",
    "rslt.summary()"
   ]
  },
  {
   "cell_type": "code",
   "execution_count": 6,
   "metadata": {
    "pycharm": {},
    "slideshow": {
     "slide_type": "slide"
    }
   },
   "outputs": [
    {
     "name": "stderr",
     "output_type": "stream",
     "text": [
      "/home/peisenha/local/anaconda3/envs/teaching-microeconometrics/lib/python3.7/site-packages/ipykernel_launcher.py:2: FutureWarning: Indexing with multiple keys (implicitly converted to a tuple of keys) will be deprecated, use a list instead.\n",
      "  \n"
     ]
    },
    {
     "data": {
      "text/html": [
       "<div>\n",
       "<style scoped>\n",
       "    .dataframe tbody tr th:only-of-type {\n",
       "        vertical-align: middle;\n",
       "    }\n",
       "\n",
       "    .dataframe tbody tr th {\n",
       "        vertical-align: top;\n",
       "    }\n",
       "\n",
       "    .dataframe thead th {\n",
       "        text-align: right;\n",
       "    }\n",
       "</style>\n",
       "<table border=\"1\" class=\"dataframe\">\n",
       "  <thead>\n",
       "    <tr style=\"text-align: right;\">\n",
       "      <th></th>\n",
       "      <th></th>\n",
       "      <th>Y</th>\n",
       "      <th>predict</th>\n",
       "    </tr>\n",
       "    <tr>\n",
       "      <th>D</th>\n",
       "      <th>S</th>\n",
       "      <th></th>\n",
       "      <th></th>\n",
       "    </tr>\n",
       "  </thead>\n",
       "  <tbody>\n",
       "    <tr>\n",
       "      <th rowspan=\"3\" valign=\"top\">0</th>\n",
       "      <th>1</th>\n",
       "      <td>2.019014</td>\n",
       "      <td>1.755647</td>\n",
       "    </tr>\n",
       "    <tr>\n",
       "      <th>2</th>\n",
       "      <td>6.017456</td>\n",
       "      <td>6.188111</td>\n",
       "    </tr>\n",
       "    <tr>\n",
       "      <th>3</th>\n",
       "      <td>9.977920</td>\n",
       "      <td>10.620575</td>\n",
       "    </tr>\n",
       "    <tr>\n",
       "      <th rowspan=\"3\" valign=\"top\">1</th>\n",
       "      <th>1</th>\n",
       "      <td>4.026830</td>\n",
       "      <td>4.450685</td>\n",
       "    </tr>\n",
       "    <tr>\n",
       "      <th>2</th>\n",
       "      <td>8.001276</td>\n",
       "      <td>8.883149</td>\n",
       "    </tr>\n",
       "    <tr>\n",
       "      <th>3</th>\n",
       "      <td>13.980587</td>\n",
       "      <td>13.315613</td>\n",
       "    </tr>\n",
       "  </tbody>\n",
       "</table>\n",
       "</div>"
      ],
      "text/plain": [
       "             Y    predict\n",
       "D S                      \n",
       "0 1   2.019014   1.755647\n",
       "  2   6.017456   6.188111\n",
       "  3   9.977920  10.620575\n",
       "1 1   4.026830   4.450685\n",
       "  2   8.001276   8.883149\n",
       "  3  13.980587  13.315613"
      ]
     },
     "execution_count": 6,
     "metadata": {},
     "output_type": "execute_result"
    }
   ],
   "source": [
    "df[\"predict\"] = rslt.predict()\n",
    "df.groupby([\"D\", \"S\"])[\"Y\", \"predict\"].mean()"
   ]
  },
  {
   "cell_type": "code",
   "execution_count": 7,
   "metadata": {
    "pycharm": {},
    "slideshow": {
     "slide_type": "slide"
    }
   },
   "outputs": [
    {
     "data": {
      "image/png": "[encoded data removed]",
      "text/plain": [
       "<Figure size 432x288 with 2 Axes>"
      ]
     },
     "metadata": {
      "needs_background": "light"
     },
     "output_type": "display_data"
    }
   ],
   "source": [
    "plot_predictions_demonstration_1(df)"
   ]
  },
  {
   "cell_type": "markdown",
   "metadata": {
    "pycharm": {},
    "slideshow": {
     "slide_type": "slide"
    }
   },
   "source": [
    "### Anscombe quartet\n"
   ]
  },
  {
   "cell_type": "code",
   "execution_count": 8,
   "metadata": {
    "pycharm": {},
    "slideshow": {
     "slide_type": "-"
    }
   },
   "outputs": [
    {
     "name": "stdout",
     "output_type": "stream",
     "text": [
      "\n",
      " Dataset 1\n",
      " Intercept: 3.002 x: 0.500\n",
      "\n",
      " Dataset 2\n",
      " Intercept: 3.002 x: 0.500\n",
      "\n",
      " Dataset 3\n",
      " Intercept: 3.002 x: 0.500\n",
      "\n",
      " Dataset 4\n",
      " Intercept: 3.002 x: 0.500\n"
     ]
    }
   ],
   "source": [
    "df1, df2, df3, df4 = get_anscombe_datasets()\n",
    "for i, df in enumerate([df1, df2, df3, df4]):\n",
    "    rslt = smf.ols(formula=\"y ~ x\", data=df3).fit()\n",
    "    print(\"\\n Dataset {:}\".format(i + 1))\n",
    "    print(\" Intercept: {:5.3f} x: {:5.3f}\".format(*rslt.params))"
   ]
  },
  {
   "cell_type": "markdown",
   "metadata": {
    "pycharm": {},
    "slideshow": {
     "slide_type": "slide"
    }
   },
   "source": [
    "So what does the data behind these regressions look like?"
   ]
  },
  {
   "cell_type": "code",
   "execution_count": 9,
   "metadata": {
    "pycharm": {},
    "slideshow": {
     "slide_type": "-"
    }
   },
   "outputs": [
    {
     "data": {
      "image/png": "[encoded data removed]",
      "text/plain": [
       "<Figure size 576x576 with 4 Axes>"
      ]
     },
     "metadata": {
      "needs_background": "light"
     },
     "output_type": "display_data"
    }
   ],
   "source": [
    "plot_anscombe_dataset()"
   ]
  },
  {
   "cell_type": "markdown",
   "metadata": {
    "pycharm": {},
    "slideshow": {
     "slide_type": "slide"
    }
   },
   "source": [
    "## Regression adjustment as a strategy to estimate causal effects\n",
    "\n",
    "### Regression models and omitted-variable bias\n",
    "\n",
    "\\begin{align*}\n",
    "Y = \\alpha + \\delta D + \\epsilon\n",
    "\\end{align*}\n",
    "\n",
    "* $\\delta$ is interpreted as an invariant, structural causal effect that applies to all members \n",
    "of the population.\n",
    "\n",
    "* $\\epsilon$ is a summary random variable that represents all other causes of $Y$."
   ]
  },
  {
   "cell_type": "markdown",
   "metadata": {
    "pycharm": {},
    "slideshow": {
     "slide_type": "slide"
    }
   },
   "source": [
    "\\begin{align*}\n",
    "\\hat{\\delta}_{OLS, \\text{bivariate}} = \\frac{Cov_N(y_i, d_i)}{Var_N(d_i)}\n",
    "\\end{align*}\n",
    "\n",
    "It now depends on the correlation between $\\epsilon$ and $D$ whether $\\hat{\\delta}$ provides an \n",
    "unbiased and consistent estimate of the true causal effect\n",
    "\n",
    "<img src=\"material/omitted-variable-bias.png\" height=300 width=300 />\n",
    "\n",
    "We now move to the potential outcomes model to clarify the connection between  *omitted-variable \n",
    "bias** and **self-selection bias**. "
   ]
  },
  {
   "cell_type": "markdown",
   "metadata": {
    "pycharm": {},
    "slideshow": {
     "slide_type": "slide"
    }
   },
   "source": [
    "### Potential outcomes and omitted-variable bias\n",
    "\n",
    "\\begin{align*}\n",
    "Y = \\underbrace{\\mu^0}_{\\alpha} + \\underbrace{(\\mu^1 - \\mu^0)}_{\\delta} D + \\underbrace{\\{\\nu^0 +\n",
    " D(\\nu^1 - \\nu^0 )\\}}_{\\epsilon}, \n",
    "\\end{align*}\n",
    "\n",
    "where $\\mu^0\\equiv E[Y^0]$, $\\mu^1\\equiv E[Y^1]$, $\\nu^0\\equiv Y^0 - E[Y^0]$, and $\\nu^1\\equiv \n",
    "Y^1 - E[Y^1]$."
   ]
  },
  {
   "cell_type": "markdown",
   "metadata": {
    "pycharm": {},
    "slideshow": {
     "slide_type": "slide"
    }
   },
   "source": [
    "What induces a correlation between $D$ an $\\{\\nu^0 + D(\\nu^1 - \\nu^0 )\\}$?\n",
    "\n",
    "* **baseline bias**, there is a net baseline difference in the hypothetical no-treatment state that\n",
    " is correlated with treatment uptake\n",
    "$\\rightarrow$ $D$ is correlated with $\\nu_0$\n",
    "\n",
    "* **differential treatment bias**, there is a net treatment effect difference that is correlated \n",
    "with treatment uptake\n",
    "$\\rightarrow$ $D$ is correlated with $D(\\nu^1 - \\nu^0 )$"
   ]
  },
  {
   "cell_type": "markdown",
   "metadata": {
    "pycharm": {},
    "slideshow": {
     "slide_type": "slide"
    }
   },
   "source": [
    "<img src=\"material/regression_demonstration_two.png\" height=300 width=300 />"
   ]
  },
  {
   "cell_type": "markdown",
   "metadata": {
    "pycharm": {},
    "slideshow": {
     "slide_type": "slide"
    }
   },
   "source": [
    "**Errata** \n",
    "\n",
    "Please note that there is a relevant correction on the author's [website](http://socweb.soc.jhu.edu/faculty/morgan/papers/Errata_2nd_Edition.pdf):\n",
    "\n",
    "* page 198, Table 6.2, first panel: In order to restrict the bias to differential baseline  bias only, as required by the label on the first panel of the table, replace 20 with 10 in the first cell of the second row.Then, carry the changes across columns so that (a) the values for  $\\nu^1_i$ are 5 for the individual in the treatment group and -5 for the individual in the control group and (b) the value for ${\\nu^0_i + D(\\nu^1_i − \\nu^0_i)}$ is 5 for the individual in the treatment group"
   ]
  },
  {
   "cell_type": "markdown",
   "metadata": {},
   "source": [
    "| Group   | $y_i^1$ | $y_i^0$ | $\\nu_i^1$ | $\\nu_i^0$ | $y_i$ | $d_i$ | $\\nu_i^1 + d_i (\\nu_i^1 - \\nu_i^0)$ |  $ d_i (\\nu_i^1 - \\nu_i^0)$ |\n",
    "| ------- | ------  | ------- | --------- | --------- | ----- | ----- | ----------------------------------- | --------------------------- |\n",
    "| Treated | 20      | 10      | 5         |  5         | 20   | 1     |  5.000000000000000000000000         |   0.000000000               |\n",
    "| Control | 10      |  0      | -5         | -5         |  0   | 0     | -5                                 |   0.000000000               |"
   ]
  },
  {
   "cell_type": "markdown",
   "metadata": {
    "pycharm": {},
    "slideshow": {
     "slide_type": "slide"
    }
   },
   "source": [
    "### Regression as adjustment for otherwise omitted variables\n",
    "\n",
    "<img src=\"material/observable-regression-adjustment.png\" height=300 width=300 />"
   ]
  },
  {
   "cell_type": "markdown",
   "metadata": {
    "pycharm": {},
    "slideshow": {
     "slide_type": "slide"
    }
   },
   "source": [
    "<img src=\"material/regression_demonstration_three.png\" height=300 width=300/>"
   ]
  },
  {
   "cell_type": "markdown",
   "metadata": {
    "pycharm": {},
    "slideshow": {
     "slide_type": "slide"
    }
   },
   "source": [
    "We will now look at two datasets that are observationally equivalent but regression adjustment \n",
    "for observable $X$ does only work in one of them.\n",
    "\n",
    "<img src=\"material/regression_demonstration_four.png\" height=300 width=300 />"
   ]
  },
  {
   "cell_type": "code",
   "execution_count": 10,
   "metadata": {
    "pycharm": {},
    "slideshow": {
     "slide_type": "slide"
    }
   },
   "outputs": [
    {
     "name": "stdout",
     "output_type": "stream",
     "text": [
      "Sample 0\n",
      "\n",
      "True effect:    10.0000\n",
      "Naive estimate: 11.6540\n",
      "                            OLS Regression Results                            \n",
      "==============================================================================\n",
      "Dep. Variable:                      Y   R-squared:                       0.860\n",
      "Model:                            OLS   Adj. R-squared:                  0.860\n",
      "Method:                 Least Squares   F-statistic:                     6113.\n",
      "Date:                Tue, 28 Apr 2020   Prob (F-statistic):               0.00\n",
      "Time:                        13:13:22   Log-Likelihood:                -2275.1\n",
      "No. Observations:                1000   AIC:                             4554.\n",
      "Df Residuals:                     998   BIC:                             4564.\n",
      "Df Model:                           1                                         \n",
      "Covariance Type:            nonrobust                                         \n",
      "==============================================================================\n",
      "                 coef    std err          t      P>|t|      [0.025      0.975]\n",
      "------------------------------------------------------------------------------\n",
      "Intercept      6.8379      0.105     65.272      0.000       6.632       7.044\n",
      "D             11.6540      0.149     78.187      0.000      11.361      11.946\n",
      "==============================================================================\n",
      "Omnibus:                     7278.240   Durbin-Watson:                   1.966\n",
      "Prob(Omnibus):                  0.000   Jarque-Bera (JB):               94.873\n",
      "Skew:                          -0.097   Prob(JB):                     2.50e-21\n",
      "Kurtosis:                       1.504   Cond. No.                         2.60\n",
      "==============================================================================\n",
      "\n",
      "Warnings:\n",
      "[1] Standard Errors assume that the covariance matrix of the errors is correctly specified.\n",
      "Sample 1\n",
      "\n",
      "True effect:    9.6280\n",
      "Naive estimate: 11.6540\n",
      "                            OLS Regression Results                            \n",
      "==============================================================================\n",
      "Dep. Variable:                      Y   R-squared:                       0.860\n",
      "Model:                            OLS   Adj. R-squared:                  0.860\n",
      "Method:                 Least Squares   F-statistic:                     6113.\n",
      "Date:                Tue, 28 Apr 2020   Prob (F-statistic):               0.00\n",
      "Time:                        13:13:23   Log-Likelihood:                -2275.1\n",
      "No. Observations:                1000   AIC:                             4554.\n",
      "Df Residuals:                     998   BIC:                             4564.\n",
      "Df Model:                           1                                         \n",
      "Covariance Type:            nonrobust                                         \n",
      "==============================================================================\n",
      "                 coef    std err          t      P>|t|      [0.025      0.975]\n",
      "------------------------------------------------------------------------------\n",
      "Intercept      6.8379      0.105     65.272      0.000       6.632       7.044\n",
      "D             11.6540      0.149     78.187      0.000      11.361      11.946\n",
      "==============================================================================\n",
      "Omnibus:                     7278.240   Durbin-Watson:                   1.966\n",
      "Prob(Omnibus):                  0.000   Jarque-Bera (JB):               94.873\n",
      "Skew:                          -0.097   Prob(JB):                     2.50e-21\n",
      "Kurtosis:                       1.504   Cond. No.                         2.60\n",
      "==============================================================================\n",
      "\n",
      "Warnings:\n",
      "[1] Standard Errors assume that the covariance matrix of the errors is correctly specified.\n"
     ]
    }
   ],
   "source": [
    "for sample in range(2):\n",
    "\n",
    "    df = get_sample_regression_adjustment(sample)\n",
    "    print(\"Sample {:}\\n\".format(sample))\n",
    "\n",
    "    stat = (df[\"Y_1\"] - df[\"Y_0\"]).mean()\n",
    "    print(\"True effect:    {:5.4f}\".format(stat))\n",
    "\n",
    "    stat = df[\"Y\"][df[\"D\"] == 1].mean() - df[\"Y\"][df[\"D\"] == 0].mean()\n",
    "    print(\"Naive estimate: {:5.4f}\".format(stat))\n",
    "\n",
    "    rslt = smf.ols(formula=\"Y ~ D\", data=df).fit()\n",
    "    print(rslt.summary())"
   ]
  },
  {
   "cell_type": "markdown",
   "metadata": {
    "pycharm": {},
    "slideshow": {
     "slide_type": "slide"
    }
   },
   "source": [
    "Now we condition on $X$ to see where conditioning might help in obtaining an unbiased estimate of\n",
    " the true effect.\n",
    "\n",
    "<img src=\"material/regression_demonstration_five.png\" height=300 width=300 />"
   ]
  },
  {
   "cell_type": "code",
   "execution_count": 11,
   "metadata": {
    "pycharm": {},
    "slideshow": {
     "slide_type": "slide"
    }
   },
   "outputs": [
    {
     "name": "stdout",
     "output_type": "stream",
     "text": [
      "Sample 0\n",
      "\n",
      "True effect:                 10.0000\n",
      "Naive estimate:              11.6540\n",
      "Conditional estimate:        10.0000\n",
      "\n",
      "Sample 1\n",
      "\n",
      "True effect:                  9.6280\n",
      "Naive estimate:              11.6540\n",
      "Conditional estimate:        10.0000\n",
      "\n"
     ]
    }
   ],
   "source": [
    "for sample in range(2):\n",
    "\n",
    "    df = get_sample_regression_adjustment(sample)\n",
    "    print(\"Sample {:}\\n\".format(sample))\n",
    "\n",
    "    stat = (df[\"Y_1\"] - df[\"Y_0\"]).mean()\n",
    "    print(\"True effect:{:24.4f}\".format(stat))\n",
    "\n",
    "    stat = df[\"Y\"][df[\"D\"] == 1].mean() - df[\"Y\"][df[\"D\"] == 0].mean()\n",
    "    print(\"Naive estimate:{:21.4f}\".format(stat))\n",
    "\n",
    "    rslt = smf.ols(formula=\"Y ~ D + X\", data=df).fit()\n",
    "    print(\"Conditional estimate:{:15.4f}\\n\".format(rslt.params[1]))"
   ]
  },
  {
   "cell_type": "markdown",
   "metadata": {
    "pycharm": {},
    "slideshow": {
     "slide_type": "slide"
    }
   },
   "source": [
    "To summarize: Regression adjustment by $X$ will yield a consistent and unbiased estimate of the ATE when:\n",
    "\n",
    "* $D$ is mean independent of (and therefore uncorrelated with) $v^0 + D(v^1 - v^0)$ for each \n",
    "subset of respondent identified by distinct values on the variables in $X$\n",
    "\n",
    "* the causal effect of $D$ does not vary with $X$ \n",
    "\n",
    "* a fully flexible parameterization of $X$ is used"
   ]
  },
  {
   "cell_type": "markdown",
   "metadata": {
    "pycharm": {},
    "slideshow": {
     "slide_type": "slide"
    }
   },
   "source": [
    "## Freedman's paradox\n",
    "\n",
    "> In statistical analysis, Freedman's paradox, named after David Freedman, is a problem in model \n",
    "selection whereby predictor variables with no relationship to the dependent variable can pass tests of significance – both individually via a t-test, and jointly via an F-test for the significance of the regression. (Wikipedia)"
   ]
  },
  {
   "cell_type": "markdown",
   "metadata": {
    "pycharm": {},
    "slideshow": {
     "slide_type": "slide"
    }
   },
   "source": [
    "We fill a dataframe with random numbers. Thus there is no causal relationship between the \n",
    "dependent and independent  variables."
   ]
  },
  {
   "cell_type": "code",
   "execution_count": 12,
   "metadata": {
    "pycharm": {},
    "slideshow": {
     "slide_type": "-"
    }
   },
   "outputs": [],
   "source": [
    "columns = [\"Y\"]\n",
    "for i in range(50):\n",
    "    columns.append(\"X{:}\".format(i))\n",
    "df = pd.DataFrame(np.random.normal(size=(100, 51)), columns=columns)"
   ]
  },
  {
   "cell_type": "markdown",
   "metadata": {
    "pycharm": {},
    "slideshow": {
     "slide_type": "slide"
    }
   },
   "source": [
    "Now we run a simple regression of the random independent variables on the dependent variable."
   ]
  },
  {
   "cell_type": "code",
   "execution_count": 13,
   "metadata": {
    "pycharm": {},
    "slideshow": {
     "slide_type": "slide"
    }
   },
   "outputs": [
    {
     "data": {
      "text/html": [
       "<table class=\"simpletable\">\n",
       "<caption>OLS Regression Results</caption>\n",
       "<tr>\n",
       "  <th>Dep. Variable:</th>            <td>Y</td>        <th>  R-squared:         </th> <td>   0.545</td>\n",
       "</tr>\n",
       "<tr>\n",
       "  <th>Model:</th>                   <td>OLS</td>       <th>  Adj. R-squared:    </th> <td>   0.081</td>\n",
       "</tr>\n",
       "<tr>\n",
       "  <th>Method:</th>             <td>Least Squares</td>  <th>  F-statistic:       </th> <td>   1.176</td>\n",
       "</tr>\n",
       "<tr>\n",
       "  <th>Date:</th>             <td>Tue, 28 Apr 2020</td> <th>  Prob (F-statistic):</th>  <td> 0.286</td> \n",
       "</tr>\n",
       "<tr>\n",
       "  <th>Time:</th>                 <td>13:13:27</td>     <th>  Log-Likelihood:    </th> <td> -108.43</td>\n",
       "</tr>\n",
       "<tr>\n",
       "  <th>No. Observations:</th>      <td>   100</td>      <th>  AIC:               </th> <td>   318.9</td>\n",
       "</tr>\n",
       "<tr>\n",
       "  <th>Df Residuals:</th>          <td>    49</td>      <th>  BIC:               </th> <td>   451.7</td>\n",
       "</tr>\n",
       "<tr>\n",
       "  <th>Df Model:</th>              <td>    50</td>      <th>                     </th>     <td> </td>   \n",
       "</tr>\n",
       "<tr>\n",
       "  <th>Covariance Type:</th>      <td>nonrobust</td>    <th>                     </th>     <td> </td>   \n",
       "</tr>\n",
       "</table>\n",
       "<table class=\"simpletable\">\n",
       "<tr>\n",
       "      <td></td>         <th>coef</th>     <th>std err</th>      <th>t</th>      <th>P>|t|</th>  <th>[0.025</th>    <th>0.975]</th>  \n",
       "</tr>\n",
       "<tr>\n",
       "  <th>Intercept</th> <td>    0.1106</td> <td>    0.136</td> <td>    0.811</td> <td> 0.421</td> <td>   -0.163</td> <td>    0.384</td>\n",
       "</tr>\n",
       "<tr>\n",
       "  <th>X0</th>        <td>   -0.0922</td> <td>    0.222</td> <td>   -0.416</td> <td> 0.679</td> <td>   -0.538</td> <td>    0.353</td>\n",
       "</tr>\n",
       "<tr>\n",
       "  <th>X1</th>        <td>   -0.1713</td> <td>    0.141</td> <td>   -1.217</td> <td> 0.229</td> <td>   -0.454</td> <td>    0.111</td>\n",
       "</tr>\n",
       "<tr>\n",
       "  <th>X2</th>        <td>   -0.0741</td> <td>    0.155</td> <td>   -0.478</td> <td> 0.635</td> <td>   -0.386</td> <td>    0.237</td>\n",
       "</tr>\n",
       "<tr>\n",
       "  <th>X3</th>        <td>    0.1575</td> <td>    0.134</td> <td>    1.178</td> <td> 0.244</td> <td>   -0.111</td> <td>    0.426</td>\n",
       "</tr>\n",
       "<tr>\n",
       "  <th>X4</th>        <td>    0.2736</td> <td>    0.172</td> <td>    1.595</td> <td> 0.117</td> <td>   -0.071</td> <td>    0.618</td>\n",
       "</tr>\n",
       "<tr>\n",
       "  <th>X5</th>        <td>   -0.0649</td> <td>    0.172</td> <td>   -0.378</td> <td> 0.707</td> <td>   -0.410</td> <td>    0.280</td>\n",
       "</tr>\n",
       "<tr>\n",
       "  <th>X6</th>        <td>    0.0063</td> <td>    0.141</td> <td>    0.045</td> <td> 0.964</td> <td>   -0.276</td> <td>    0.289</td>\n",
       "</tr>\n",
       "<tr>\n",
       "  <th>X7</th>        <td>    0.1089</td> <td>    0.141</td> <td>    0.774</td> <td> 0.443</td> <td>   -0.174</td> <td>    0.392</td>\n",
       "</tr>\n",
       "<tr>\n",
       "  <th>X8</th>        <td>    0.0694</td> <td>    0.139</td> <td>    0.500</td> <td> 0.619</td> <td>   -0.210</td> <td>    0.348</td>\n",
       "</tr>\n",
       "<tr>\n",
       "  <th>X9</th>        <td>    0.3075</td> <td>    0.149</td> <td>    2.059</td> <td> 0.045</td> <td>    0.007</td> <td>    0.608</td>\n",
       "</tr>\n",
       "<tr>\n",
       "  <th>X10</th>       <td>    0.0189</td> <td>    0.168</td> <td>    0.113</td> <td> 0.911</td> <td>   -0.318</td> <td>    0.356</td>\n",
       "</tr>\n",
       "<tr>\n",
       "  <th>X11</th>       <td>   -0.2898</td> <td>    0.178</td> <td>   -1.626</td> <td> 0.110</td> <td>   -0.648</td> <td>    0.068</td>\n",
       "</tr>\n",
       "<tr>\n",
       "  <th>X12</th>       <td>    0.0207</td> <td>    0.129</td> <td>    0.160</td> <td> 0.873</td> <td>   -0.239</td> <td>    0.280</td>\n",
       "</tr>\n",
       "<tr>\n",
       "  <th>X13</th>       <td>    0.0901</td> <td>    0.119</td> <td>    0.757</td> <td> 0.453</td> <td>   -0.149</td> <td>    0.329</td>\n",
       "</tr>\n",
       "<tr>\n",
       "  <th>X14</th>       <td>   -0.1296</td> <td>    0.154</td> <td>   -0.843</td> <td> 0.403</td> <td>   -0.439</td> <td>    0.179</td>\n",
       "</tr>\n",
       "<tr>\n",
       "  <th>X15</th>       <td>    0.0618</td> <td>    0.153</td> <td>    0.405</td> <td> 0.687</td> <td>   -0.245</td> <td>    0.368</td>\n",
       "</tr>\n",
       "<tr>\n",
       "  <th>X16</th>       <td>   -0.1151</td> <td>    0.122</td> <td>   -0.944</td> <td> 0.350</td> <td>   -0.360</td> <td>    0.130</td>\n",
       "</tr>\n",
       "<tr>\n",
       "  <th>X17</th>       <td>    0.1265</td> <td>    0.170</td> <td>    0.744</td> <td> 0.460</td> <td>   -0.215</td> <td>    0.468</td>\n",
       "</tr>\n",
       "<tr>\n",
       "  <th>X18</th>       <td>    0.1578</td> <td>    0.140</td> <td>    1.129</td> <td> 0.264</td> <td>   -0.123</td> <td>    0.439</td>\n",
       "</tr>\n",
       "<tr>\n",
       "  <th>X19</th>       <td>   -0.0752</td> <td>    0.157</td> <td>   -0.477</td> <td> 0.635</td> <td>   -0.392</td> <td>    0.241</td>\n",
       "</tr>\n",
       "<tr>\n",
       "  <th>X20</th>       <td>   -0.1454</td> <td>    0.133</td> <td>   -1.097</td> <td> 0.278</td> <td>   -0.412</td> <td>    0.121</td>\n",
       "</tr>\n",
       "<tr>\n",
       "  <th>X21</th>       <td>    0.1507</td> <td>    0.150</td> <td>    1.005</td> <td> 0.320</td> <td>   -0.151</td> <td>    0.452</td>\n",
       "</tr>\n",
       "<tr>\n",
       "  <th>X22</th>       <td>    0.4160</td> <td>    0.133</td> <td>    3.123</td> <td> 0.003</td> <td>    0.148</td> <td>    0.684</td>\n",
       "</tr>\n",
       "<tr>\n",
       "  <th>X23</th>       <td>   -0.1169</td> <td>    0.156</td> <td>   -0.750</td> <td> 0.457</td> <td>   -0.430</td> <td>    0.196</td>\n",
       "</tr>\n",
       "<tr>\n",
       "  <th>X24</th>       <td>   -0.2271</td> <td>    0.165</td> <td>   -1.376</td> <td> 0.175</td> <td>   -0.559</td> <td>    0.104</td>\n",
       "</tr>\n",
       "<tr>\n",
       "  <th>X25</th>       <td>    0.1651</td> <td>    0.172</td> <td>    0.962</td> <td> 0.341</td> <td>   -0.180</td> <td>    0.510</td>\n",
       "</tr>\n",
       "<tr>\n",
       "  <th>X26</th>       <td>    0.1461</td> <td>    0.123</td> <td>    1.192</td> <td> 0.239</td> <td>   -0.100</td> <td>    0.392</td>\n",
       "</tr>\n",
       "<tr>\n",
       "  <th>X27</th>       <td>   -0.2343</td> <td>    0.139</td> <td>   -1.685</td> <td> 0.098</td> <td>   -0.514</td> <td>    0.045</td>\n",
       "</tr>\n",
       "<tr>\n",
       "  <th>X28</th>       <td>    0.0508</td> <td>    0.138</td> <td>    0.368</td> <td> 0.715</td> <td>   -0.227</td> <td>    0.329</td>\n",
       "</tr>\n",
       "<tr>\n",
       "  <th>X29</th>       <td>   -0.0187</td> <td>    0.191</td> <td>   -0.098</td> <td> 0.922</td> <td>   -0.403</td> <td>    0.365</td>\n",
       "</tr>\n",
       "<tr>\n",
       "  <th>X30</th>       <td>    0.2245</td> <td>    0.149</td> <td>    1.511</td> <td> 0.137</td> <td>   -0.074</td> <td>    0.523</td>\n",
       "</tr>\n",
       "<tr>\n",
       "  <th>X31</th>       <td>    0.0353</td> <td>    0.146</td> <td>    0.242</td> <td> 0.810</td> <td>   -0.258</td> <td>    0.329</td>\n",
       "</tr>\n",
       "<tr>\n",
       "  <th>X32</th>       <td>    0.0666</td> <td>    0.152</td> <td>    0.438</td> <td> 0.663</td> <td>   -0.239</td> <td>    0.372</td>\n",
       "</tr>\n",
       "<tr>\n",
       "  <th>X33</th>       <td>   -0.0281</td> <td>    0.151</td> <td>   -0.186</td> <td> 0.853</td> <td>   -0.331</td> <td>    0.275</td>\n",
       "</tr>\n",
       "<tr>\n",
       "  <th>X34</th>       <td>    0.0204</td> <td>    0.141</td> <td>    0.144</td> <td> 0.886</td> <td>   -0.263</td> <td>    0.304</td>\n",
       "</tr>\n",
       "<tr>\n",
       "  <th>X35</th>       <td>   -0.1940</td> <td>    0.138</td> <td>   -1.409</td> <td> 0.165</td> <td>   -0.471</td> <td>    0.083</td>\n",
       "</tr>\n",
       "<tr>\n",
       "  <th>X36</th>       <td>    0.1215</td> <td>    0.144</td> <td>    0.843</td> <td> 0.403</td> <td>   -0.168</td> <td>    0.411</td>\n",
       "</tr>\n",
       "<tr>\n",
       "  <th>X37</th>       <td>    0.3450</td> <td>    0.171</td> <td>    2.023</td> <td> 0.049</td> <td>    0.002</td> <td>    0.688</td>\n",
       "</tr>\n",
       "<tr>\n",
       "  <th>X38</th>       <td>    0.2652</td> <td>    0.148</td> <td>    1.787</td> <td> 0.080</td> <td>   -0.033</td> <td>    0.563</td>\n",
       "</tr>\n",
       "<tr>\n",
       "  <th>X39</th>       <td>    0.0370</td> <td>    0.167</td> <td>    0.221</td> <td> 0.826</td> <td>   -0.299</td> <td>    0.373</td>\n",
       "</tr>\n",
       "<tr>\n",
       "  <th>X40</th>       <td>   -0.0072</td> <td>    0.147</td> <td>   -0.049</td> <td> 0.961</td> <td>   -0.302</td> <td>    0.288</td>\n",
       "</tr>\n",
       "<tr>\n",
       "  <th>X41</th>       <td>    0.2258</td> <td>    0.154</td> <td>    1.469</td> <td> 0.148</td> <td>   -0.083</td> <td>    0.535</td>\n",
       "</tr>\n",
       "<tr>\n",
       "  <th>X42</th>       <td>   -0.1910</td> <td>    0.154</td> <td>   -1.242</td> <td> 0.220</td> <td>   -0.500</td> <td>    0.118</td>\n",
       "</tr>\n",
       "<tr>\n",
       "  <th>X43</th>       <td>    0.1973</td> <td>    0.139</td> <td>    1.423</td> <td> 0.161</td> <td>   -0.081</td> <td>    0.476</td>\n",
       "</tr>\n",
       "<tr>\n",
       "  <th>X44</th>       <td>   -0.1017</td> <td>    0.136</td> <td>   -0.750</td> <td> 0.457</td> <td>   -0.374</td> <td>    0.171</td>\n",
       "</tr>\n",
       "<tr>\n",
       "  <th>X45</th>       <td>   -0.1656</td> <td>    0.137</td> <td>   -1.210</td> <td> 0.232</td> <td>   -0.441</td> <td>    0.109</td>\n",
       "</tr>\n",
       "<tr>\n",
       "  <th>X46</th>       <td>   -0.0255</td> <td>    0.152</td> <td>   -0.168</td> <td> 0.867</td> <td>   -0.330</td> <td>    0.279</td>\n",
       "</tr>\n",
       "<tr>\n",
       "  <th>X47</th>       <td>    0.1621</td> <td>    0.148</td> <td>    1.094</td> <td> 0.279</td> <td>   -0.136</td> <td>    0.460</td>\n",
       "</tr>\n",
       "<tr>\n",
       "  <th>X48</th>       <td>    0.1768</td> <td>    0.144</td> <td>    1.228</td> <td> 0.225</td> <td>   -0.113</td> <td>    0.466</td>\n",
       "</tr>\n",
       "<tr>\n",
       "  <th>X49</th>       <td>    0.1961</td> <td>    0.146</td> <td>    1.345</td> <td> 0.185</td> <td>   -0.097</td> <td>    0.489</td>\n",
       "</tr>\n",
       "</table>\n",
       "<table class=\"simpletable\">\n",
       "<tr>\n",
       "  <th>Omnibus:</th>       <td> 0.122</td> <th>  Durbin-Watson:     </th> <td>   2.167</td>\n",
       "</tr>\n",
       "<tr>\n",
       "  <th>Prob(Omnibus):</th> <td> 0.941</td> <th>  Jarque-Bera (JB):  </th> <td>   0.302</td>\n",
       "</tr>\n",
       "<tr>\n",
       "  <th>Skew:</th>          <td>-0.007</td> <th>  Prob(JB):          </th> <td>   0.860</td>\n",
       "</tr>\n",
       "<tr>\n",
       "  <th>Kurtosis:</th>      <td> 2.731</td> <th>  Cond. No.          </th> <td>    6.59</td>\n",
       "</tr>\n",
       "</table><br/><br/>Warnings:<br/>[1] Standard Errors assume that the covariance matrix of the errors is correctly specified."
      ],
      "text/plain": [
       "<class 'statsmodels.iolib.summary.Summary'>\n",
       "\"\"\"\n",
       "                            OLS Regression Results                            \n",
       "==============================================================================\n",
       "Dep. Variable:                      Y   R-squared:                       0.545\n",
       "Model:                            OLS   Adj. R-squared:                  0.081\n",
       "Method:                 Least Squares   F-statistic:                     1.176\n",
       "Date:                Tue, 28 Apr 2020   Prob (F-statistic):              0.286\n",
       "Time:                        13:13:27   Log-Likelihood:                -108.43\n",
       "No. Observations:                 100   AIC:                             318.9\n",
       "Df Residuals:                      49   BIC:                             451.7\n",
       "Df Model:                          50                                         \n",
       "Covariance Type:            nonrobust                                         \n",
       "==============================================================================\n",
       "                 coef    std err          t      P>|t|      [0.025      0.975]\n",
       "------------------------------------------------------------------------------\n",
       "Intercept      0.1106      0.136      0.811      0.421      -0.163       0.384\n",
       "X0            -0.0922      0.222     -0.416      0.679      -0.538       0.353\n",
       "X1            -0.1713      0.141     -1.217      0.229      -0.454       0.111\n",
       "X2            -0.0741      0.155     -0.478      0.635      -0.386       0.237\n",
       "X3             0.1575      0.134      1.178      0.244      -0.111       0.426\n",
       "X4             0.2736      0.172      1.595      0.117      -0.071       0.618\n",
       "X5            -0.0649      0.172     -0.378      0.707      -0.410       0.280\n",
       "X6             0.0063      0.141      0.045      0.964      -0.276       0.289\n",
       "X7             0.1089      0.141      0.774      0.443      -0.174       0.392\n",
       "X8             0.0694      0.139      0.500      0.619      -0.210       0.348\n",
       "X9             0.3075      0.149      2.059      0.045       0.007       0.608\n",
       "X10            0.0189      0.168      0.113      0.911      -0.318       0.356\n",
       "X11           -0.2898      0.178     -1.626      0.110      -0.648       0.068\n",
       "X12            0.0207      0.129      0.160      0.873      -0.239       0.280\n",
       "X13            0.0901      0.119      0.757      0.453      -0.149       0.329\n",
       "X14           -0.1296      0.154     -0.843      0.403      -0.439       0.179\n",
       "X15            0.0618      0.153      0.405      0.687      -0.245       0.368\n",
       "X16           -0.1151      0.122     -0.944      0.350      -0.360       0.130\n",
       "X17            0.1265      0.170      0.744      0.460      -0.215       0.468\n",
       "X18            0.1578      0.140      1.129      0.264      -0.123       0.439\n",
       "X19           -0.0752      0.157     -0.477      0.635      -0.392       0.241\n",
       "X20           -0.1454      0.133     -1.097      0.278      -0.412       0.121\n",
       "X21            0.1507      0.150      1.005      0.320      -0.151       0.452\n",
       "X22            0.4160      0.133      3.123      0.003       0.148       0.684\n",
       "X23           -0.1169      0.156     -0.750      0.457      -0.430       0.196\n",
       "X24           -0.2271      0.165     -1.376      0.175      -0.559       0.104\n",
       "X25            0.1651      0.172      0.962      0.341      -0.180       0.510\n",
       "X26            0.1461      0.123      1.192      0.239      -0.100       0.392\n",
       "X27           -0.2343      0.139     -1.685      0.098      -0.514       0.045\n",
       "X28            0.0508      0.138      0.368      0.715      -0.227       0.329\n",
       "X29           -0.0187      0.191     -0.098      0.922      -0.403       0.365\n",
       "X30            0.2245      0.149      1.511      0.137      -0.074       0.523\n",
       "X31            0.0353      0.146      0.242      0.810      -0.258       0.329\n",
       "X32            0.0666      0.152      0.438      0.663      -0.239       0.372\n",
       "X33           -0.0281      0.151     -0.186      0.853      -0.331       0.275\n",
       "X34            0.0204      0.141      0.144      0.886      -0.263       0.304\n",
       "X35           -0.1940      0.138     -1.409      0.165      -0.471       0.083\n",
       "X36            0.1215      0.144      0.843      0.403      -0.168       0.411\n",
       "X37            0.3450      0.171      2.023      0.049       0.002       0.688\n",
       "X38            0.2652      0.148      1.787      0.080      -0.033       0.563\n",
       "X39            0.0370      0.167      0.221      0.826      -0.299       0.373\n",
       "X40           -0.0072      0.147     -0.049      0.961      -0.302       0.288\n",
       "X41            0.2258      0.154      1.469      0.148      -0.083       0.535\n",
       "X42           -0.1910      0.154     -1.242      0.220      -0.500       0.118\n",
       "X43            0.1973      0.139      1.423      0.161      -0.081       0.476\n",
       "X44           -0.1017      0.136     -0.750      0.457      -0.374       0.171\n",
       "X45           -0.1656      0.137     -1.210      0.232      -0.441       0.109\n",
       "X46           -0.0255      0.152     -0.168      0.867      -0.330       0.279\n",
       "X47            0.1621      0.148      1.094      0.279      -0.136       0.460\n",
       "X48            0.1768      0.144      1.228      0.225      -0.113       0.466\n",
       "X49            0.1961      0.146      1.345      0.185      -0.097       0.489\n",
       "==============================================================================\n",
       "Omnibus:                        0.122   Durbin-Watson:                   2.167\n",
       "Prob(Omnibus):                  0.941   Jarque-Bera (JB):                0.302\n",
       "Skew:                          -0.007   Prob(JB):                        0.860\n",
       "Kurtosis:                       2.731   Cond. No.                         6.59\n",
       "==============================================================================\n",
       "\n",
       "Warnings:\n",
       "[1] Standard Errors assume that the covariance matrix of the errors is correctly specified.\n",
       "\"\"\""
      ]
     },
     "execution_count": 13,
     "metadata": {},
     "output_type": "execute_result"
    }
   ],
   "source": [
    "formula = \"Y ~ \" + \" + \".join(columns[1:])\n",
    "rslt = smf.ols(formula=formula, data=df).fit()\n",
    "rslt.summary()"
   ]
  },
  {
   "cell_type": "markdown",
   "metadata": {
    "pycharm": {},
    "slideshow": {
     "slide_type": "slide"
    }
   },
   "source": [
    "We use this to inform a second regression where we only keep the variables that were significant \n",
    "at the 25% level."
   ]
  },
  {
   "cell_type": "code",
   "execution_count": 14,
   "metadata": {
    "pycharm": {},
    "slideshow": {
     "slide_type": "-"
    }
   },
   "outputs": [
    {
     "data": {
      "text/html": [
       "<table class=\"simpletable\">\n",
       "<caption>OLS Regression Results</caption>\n",
       "<tr>\n",
       "  <th>Dep. Variable:</th>            <td>Y</td>        <th>  R-squared:         </th> <td>   0.402</td>\n",
       "</tr>\n",
       "<tr>\n",
       "  <th>Model:</th>                   <td>OLS</td>       <th>  Adj. R-squared:    </th> <td>   0.260</td>\n",
       "</tr>\n",
       "<tr>\n",
       "  <th>Method:</th>             <td>Least Squares</td>  <th>  F-statistic:       </th> <td>   2.834</td>\n",
       "</tr>\n",
       "<tr>\n",
       "  <th>Date:</th>             <td>Tue, 28 Apr 2020</td> <th>  Prob (F-statistic):</th> <td>0.000627</td>\n",
       "</tr>\n",
       "<tr>\n",
       "  <th>Time:</th>                 <td>13:13:27</td>     <th>  Log-Likelihood:    </th> <td> -122.11</td>\n",
       "</tr>\n",
       "<tr>\n",
       "  <th>No. Observations:</th>      <td>   100</td>      <th>  AIC:               </th> <td>   284.2</td>\n",
       "</tr>\n",
       "<tr>\n",
       "  <th>Df Residuals:</th>          <td>    80</td>      <th>  BIC:               </th> <td>   336.3</td>\n",
       "</tr>\n",
       "<tr>\n",
       "  <th>Df Model:</th>              <td>    19</td>      <th>                     </th>     <td> </td>   \n",
       "</tr>\n",
       "<tr>\n",
       "  <th>Covariance Type:</th>      <td>nonrobust</td>    <th>                     </th>     <td> </td>   \n",
       "</tr>\n",
       "</table>\n",
       "<table class=\"simpletable\">\n",
       "<tr>\n",
       "      <td></td>         <th>coef</th>     <th>std err</th>      <th>t</th>      <th>P>|t|</th>  <th>[0.025</th>    <th>0.975]</th>  \n",
       "</tr>\n",
       "<tr>\n",
       "  <th>Intercept</th> <td>    0.0853</td> <td>    0.103</td> <td>    0.832</td> <td> 0.408</td> <td>   -0.119</td> <td>    0.289</td>\n",
       "</tr>\n",
       "<tr>\n",
       "  <th>X1</th>        <td>   -0.0874</td> <td>    0.099</td> <td>   -0.879</td> <td> 0.382</td> <td>   -0.285</td> <td>    0.111</td>\n",
       "</tr>\n",
       "<tr>\n",
       "  <th>X3</th>        <td>    0.1712</td> <td>    0.101</td> <td>    1.698</td> <td> 0.093</td> <td>   -0.029</td> <td>    0.372</td>\n",
       "</tr>\n",
       "<tr>\n",
       "  <th>X4</th>        <td>    0.1905</td> <td>    0.111</td> <td>    1.710</td> <td> 0.091</td> <td>   -0.031</td> <td>    0.412</td>\n",
       "</tr>\n",
       "<tr>\n",
       "  <th>X9</th>        <td>    0.2888</td> <td>    0.104</td> <td>    2.768</td> <td> 0.007</td> <td>    0.081</td> <td>    0.496</td>\n",
       "</tr>\n",
       "<tr>\n",
       "  <th>X11</th>       <td>   -0.2161</td> <td>    0.119</td> <td>   -1.812</td> <td> 0.074</td> <td>   -0.453</td> <td>    0.021</td>\n",
       "</tr>\n",
       "<tr>\n",
       "  <th>X22</th>       <td>    0.3742</td> <td>    0.100</td> <td>    3.735</td> <td> 0.000</td> <td>    0.175</td> <td>    0.574</td>\n",
       "</tr>\n",
       "<tr>\n",
       "  <th>X24</th>       <td>   -0.2796</td> <td>    0.103</td> <td>   -2.716</td> <td> 0.008</td> <td>   -0.484</td> <td>   -0.075</td>\n",
       "</tr>\n",
       "<tr>\n",
       "  <th>X26</th>       <td>    0.1391</td> <td>    0.094</td> <td>    1.484</td> <td> 0.142</td> <td>   -0.047</td> <td>    0.326</td>\n",
       "</tr>\n",
       "<tr>\n",
       "  <th>X27</th>       <td>   -0.2348</td> <td>    0.103</td> <td>   -2.283</td> <td> 0.025</td> <td>   -0.439</td> <td>   -0.030</td>\n",
       "</tr>\n",
       "<tr>\n",
       "  <th>X30</th>       <td>    0.1220</td> <td>    0.110</td> <td>    1.109</td> <td> 0.271</td> <td>   -0.097</td> <td>    0.341</td>\n",
       "</tr>\n",
       "<tr>\n",
       "  <th>X35</th>       <td>   -0.1628</td> <td>    0.093</td> <td>   -1.742</td> <td> 0.085</td> <td>   -0.349</td> <td>    0.023</td>\n",
       "</tr>\n",
       "<tr>\n",
       "  <th>X37</th>       <td>    0.2214</td> <td>    0.100</td> <td>    2.206</td> <td> 0.030</td> <td>    0.022</td> <td>    0.421</td>\n",
       "</tr>\n",
       "<tr>\n",
       "  <th>X38</th>       <td>    0.2400</td> <td>    0.106</td> <td>    2.267</td> <td> 0.026</td> <td>    0.029</td> <td>    0.451</td>\n",
       "</tr>\n",
       "<tr>\n",
       "  <th>X41</th>       <td>    0.0482</td> <td>    0.102</td> <td>    0.471</td> <td> 0.639</td> <td>   -0.155</td> <td>    0.252</td>\n",
       "</tr>\n",
       "<tr>\n",
       "  <th>X42</th>       <td>   -0.1669</td> <td>    0.113</td> <td>   -1.478</td> <td> 0.143</td> <td>   -0.392</td> <td>    0.058</td>\n",
       "</tr>\n",
       "<tr>\n",
       "  <th>X43</th>       <td>    0.1723</td> <td>    0.096</td> <td>    1.786</td> <td> 0.078</td> <td>   -0.020</td> <td>    0.364</td>\n",
       "</tr>\n",
       "<tr>\n",
       "  <th>X45</th>       <td>   -0.1853</td> <td>    0.101</td> <td>   -1.838</td> <td> 0.070</td> <td>   -0.386</td> <td>    0.015</td>\n",
       "</tr>\n",
       "<tr>\n",
       "  <th>X48</th>       <td>    0.1667</td> <td>    0.092</td> <td>    1.811</td> <td> 0.074</td> <td>   -0.016</td> <td>    0.350</td>\n",
       "</tr>\n",
       "<tr>\n",
       "  <th>X49</th>       <td>    0.1491</td> <td>    0.100</td> <td>    1.492</td> <td> 0.140</td> <td>   -0.050</td> <td>    0.348</td>\n",
       "</tr>\n",
       "</table>\n",
       "<table class=\"simpletable\">\n",
       "<tr>\n",
       "  <th>Omnibus:</th>       <td> 2.282</td> <th>  Durbin-Watson:     </th> <td>   2.259</td>\n",
       "</tr>\n",
       "<tr>\n",
       "  <th>Prob(Omnibus):</th> <td> 0.319</td> <th>  Jarque-Bera (JB):  </th> <td>   1.718</td>\n",
       "</tr>\n",
       "<tr>\n",
       "  <th>Skew:</th>          <td> 0.137</td> <th>  Prob(JB):          </th> <td>   0.424</td>\n",
       "</tr>\n",
       "<tr>\n",
       "  <th>Kurtosis:</th>      <td> 2.420</td> <th>  Cond. No.          </th> <td>    2.43</td>\n",
       "</tr>\n",
       "</table><br/><br/>Warnings:<br/>[1] Standard Errors assume that the covariance matrix of the errors is correctly specified."
      ],
      "text/plain": [
       "<class 'statsmodels.iolib.summary.Summary'>\n",
       "\"\"\"\n",
       "                            OLS Regression Results                            \n",
       "==============================================================================\n",
       "Dep. Variable:                      Y   R-squared:                       0.402\n",
       "Model:                            OLS   Adj. R-squared:                  0.260\n",
       "Method:                 Least Squares   F-statistic:                     2.834\n",
       "Date:                Tue, 28 Apr 2020   Prob (F-statistic):           0.000627\n",
       "Time:                        13:13:27   Log-Likelihood:                -122.11\n",
       "No. Observations:                 100   AIC:                             284.2\n",
       "Df Residuals:                      80   BIC:                             336.3\n",
       "Df Model:                          19                                         \n",
       "Covariance Type:            nonrobust                                         \n",
       "==============================================================================\n",
       "                 coef    std err          t      P>|t|      [0.025      0.975]\n",
       "------------------------------------------------------------------------------\n",
       "Intercept      0.0853      0.103      0.832      0.408      -0.119       0.289\n",
       "X1            -0.0874      0.099     -0.879      0.382      -0.285       0.111\n",
       "X3             0.1712      0.101      1.698      0.093      -0.029       0.372\n",
       "X4             0.1905      0.111      1.710      0.091      -0.031       0.412\n",
       "X9             0.2888      0.104      2.768      0.007       0.081       0.496\n",
       "X11           -0.2161      0.119     -1.812      0.074      -0.453       0.021\n",
       "X22            0.3742      0.100      3.735      0.000       0.175       0.574\n",
       "X24           -0.2796      0.103     -2.716      0.008      -0.484      -0.075\n",
       "X26            0.1391      0.094      1.484      0.142      -0.047       0.326\n",
       "X27           -0.2348      0.103     -2.283      0.025      -0.439      -0.030\n",
       "X30            0.1220      0.110      1.109      0.271      -0.097       0.341\n",
       "X35           -0.1628      0.093     -1.742      0.085      -0.349       0.023\n",
       "X37            0.2214      0.100      2.206      0.030       0.022       0.421\n",
       "X38            0.2400      0.106      2.267      0.026       0.029       0.451\n",
       "X41            0.0482      0.102      0.471      0.639      -0.155       0.252\n",
       "X42           -0.1669      0.113     -1.478      0.143      -0.392       0.058\n",
       "X43            0.1723      0.096      1.786      0.078      -0.020       0.364\n",
       "X45           -0.1853      0.101     -1.838      0.070      -0.386       0.015\n",
       "X48            0.1667      0.092      1.811      0.074      -0.016       0.350\n",
       "X49            0.1491      0.100      1.492      0.140      -0.050       0.348\n",
       "==============================================================================\n",
       "Omnibus:                        2.282   Durbin-Watson:                   2.259\n",
       "Prob(Omnibus):                  0.319   Jarque-Bera (JB):                1.718\n",
       "Skew:                           0.137   Prob(JB):                        0.424\n",
       "Kurtosis:                       2.420   Cond. No.                         2.43\n",
       "==============================================================================\n",
       "\n",
       "Warnings:\n",
       "[1] Standard Errors assume that the covariance matrix of the errors is correctly specified.\n",
       "\"\"\""
      ]
     },
     "execution_count": 14,
     "metadata": {},
     "output_type": "execute_result"
    }
   ],
   "source": [
    "final_covariates = list()\n",
    "for label in rslt.params.keys():\n",
    "    if rslt.pvalues[label] > 0.25:\n",
    "        continue\n",
    "    final_covariates.append(label)\n",
    "\n",
    "formula = \"Y ~ \" + \" + \".join(final_covariates)\n",
    "rslt = smf.ols(formula=formula, data=df).fit()\n",
    "rslt.summary()"
   ]
  },
  {
   "cell_type": "markdown",
   "metadata": {
    "pycharm": {},
    "slideshow": {
     "slide_type": "slide"
    }
   },
   "source": [
    "What to make of this exercise?"
   ]
  },
  {
   "cell_type": "code",
   "execution_count": 15,
   "metadata": {
    "pycharm": {},
    "slideshow": {
     "slide_type": "-"
    }
   },
   "outputs": [],
   "source": [
    "np.random.seed(213)\n",
    "\n",
    "df = pd.DataFrame(columns=[\"F-statistic\", \"Regressors\"])\n",
    "for i in range(100):\n",
    "    model = run_freedman_exercise()\n",
    "    df[\"Regressors\"].loc[i] = len(model.params)\n",
    "    df[\"F-statistic\"].loc[i] = model.f_pvalue"
   ]
  },
  {
   "cell_type": "code",
   "execution_count": 16,
   "metadata": {
    "pycharm": {},
    "slideshow": {
     "slide_type": "slide"
    }
   },
   "outputs": [
    {
     "data": {
      "image/png": "[encoded data removed]",
      "text/plain": [
       "<Figure size 432x288 with 2 Axes>"
      ]
     },
     "metadata": {
      "needs_background": "light"
     },
     "output_type": "display_data"
    }
   ],
   "source": [
    "plot_freedman_exercise(df)"
   ]
  },
  {
   "cell_type": "markdown",
   "metadata": {},
   "source": [
    "## References\n",
    "Goldberger, A. S. (1991). *A course in econometrics*. Harvard University Press."
   ]
  }
 ],
 "metadata": {
  "celltoolbar": "Slideshow",
  "kernelspec": {
   "display_name": "Python 3",
   "language": "python",
   "name": "python3"
  },
  "language_info": {
   "codemirror_mode": {
    "name": "ipython",
    "version": 3
   },
   "file_extension": ".py",
   "mimetype": "text/x-python",
   "name": "python",
   "nbconvert_exporter": "python",
   "pygments_lexer": "ipython3",
   "version": "3.7.7"
  },
  "pycharm": {
   "stem_cell": {
    "cell_type": "raw",
    "metadata": {
     "collapsed": false
    },
    "source": []
   }
  },
  "varInspector": {
   "cols": {
    "lenName": 16,
    "lenType": 16,
    "lenVar": 40
   },
   "kernels_config": {
    "python": {
     "delete_cmd_postfix": "",
     "delete_cmd_prefix": "del ",
     "library": "var_list.py",
     "varRefreshCmd": "print(var_dic_list())"
    },
    "r": {
     "delete_cmd_postfix": ") ",
     "delete_cmd_prefix": "rm(",
     "library": "var_list.r",
     "varRefreshCmd": "cat(var_dic_list()) "
    }
   },
   "types_to_exclude": [
    "module",
    "function",
    "builtin_function_or_method",
    "instance",
    "_Feature"
   ],
   "window_display": false
  }
 },
 "nbformat": 4,
 "nbformat_minor": 4
}
