{
 "cells": [
  {
   "cell_type": "code",
   "execution_count": 1,
   "metadata": {
    "pycharm": {},
    "slideshow": {
     "slide_type": "notes"
    }
   },
   "outputs": [],
   "source": [
    "from collections import OrderedDict\n",
    "import pickle as pkl\n",
    "import os\n",
    "\n",
    "import seaborn as sns\n",
    "import pandas as pd\n",
    "import numpy as np\n",
    "\n",
    "from auxiliary import get_propensity_scores_matching_demonstration_4\n",
    "from auxiliary import get_sample_matching_demonstration_2\n",
    "from auxiliary import get_sample_matching_demonstration_3\n",
    "from auxiliary import get_sample_matching_demonstration_4\n",
    "from auxiliary import get_sparsity_pattern_by_treatment\n",
    "from auxiliary import get_sparsity_pattern_overall\n",
    "from auxiliary import get_propensity_score_3\n",
    "from auxiliary import plot_propensity_score\n",
    "from auxiliary import get_common_support\n",
    "from auxiliary import get_lalonde_data\n",
    "from auxiliary import get_inv_odds\n",
    "from auxiliary import plot_weights\n",
    "from auxiliary import get_odds\n",
    "\n",
    "np.random.seed(123)"
   ]
  },
  {
   "cell_type": "markdown",
   "metadata": {},
   "source": [
    "# Lecture 5: Matching estimators of causal effects"
   ]
  },
  {
   "cell_type": "markdown",
   "metadata": {
    "pycharm": {},
    "slideshow": {
     "slide_type": "slide"
    }
   },
   "source": [
    "##  Conditioning ot balance and conditioning to adjust\n",
    "\n",
    "There exists only one back-door path $D \\leftarrow S \\leftrightarrow X \\rightarrow Y$ and both $S$ nor $X$ are observable. Thus, we have a choice to condition on either one of them.\n",
    "\n",
    "<img src=\"material/fig-conditioning-balance-adjust.png\" height=300 width=300 />\n",
    "\n",
    "* $X$, regression estimator, adjustment-for-other-causes conditioning strategy\n",
    "* $S$, matching estimator, balancing conditioning strategy"
   ]
  },
  {
   "cell_type": "markdown",
   "metadata": {
    "pycharm": {},
    "slideshow": {
     "slide_type": "slide"
    }
   },
   "source": [
    "**Agenda**\n",
    "\n",
    "* matching as conditioning via stratification\n",
    "* matching as weighting\n",
    "* matching as data analysis algorithm"
   ]
  },
  {
   "cell_type": "markdown",
   "metadata": {
    "pycharm": {},
    "slideshow": {
     "slide_type": "slide"
    }
   },
   "source": [
    "**Fundamental concepts**\n",
    "\n",
    "* stratification of data\n",
    "* weighting to achieve balance\n",
    "* propensity scores"
   ]
  },
  {
   "cell_type": "markdown",
   "metadata": {
    "pycharm": {},
    "slideshow": {
     "slide_type": "slide"
    }
   },
   "source": [
    "**Views on matching**\n",
    "\n",
    "* method to form quasi-experimental contrasts by sampling comparable treatment and control cases\n",
    "* as a nonparametric method of adjustment fro treatment assignment patterns"
   ]
  },
  {
   "cell_type": "markdown",
   "metadata": {
    "pycharm": {},
    "slideshow": {
     "slide_type": "slide"
    }
   },
   "source": [
    "## Matching as conditioning via stratification\n",
    "\n",
    "Individuals within groups determined by $S$ are entirely indistinguishable from each other in all ways except \n",
    "\n",
    "* observed treatment status\n",
    "\n",
    "* differences in potential outcomes that are independent of treatment status"
   ]
  },
  {
   "cell_type": "markdown",
   "metadata": {
    "pycharm": {},
    "slideshow": {
     "slide_type": "slide"
    }
   },
   "source": [
    "More formally,\n",
    "\n",
    "\\begin{align*}\n",
    "E[Y^1 \\mid D = 1, S] = E[Y^1 \\mid D = 0, S] \\\\\n",
    "E[Y^0 \\mid D = 1, S] = E[Y^0 \\mid D = 0, S]\n",
    "\\end{align*}\n",
    "\n",
    "implied by ...\n",
    "\n",
    "* treatment assignment is ignorable\n",
    "* selection on observables"
   ]
  },
  {
   "cell_type": "markdown",
   "metadata": {
    "pycharm": {},
    "slideshow": {
     "slide_type": "slide"
    }
   },
   "source": [
    "**ATC**\n",
    "\n",
    "\\begin{align*}\n",
    "E[\\delta \\mid D = 0, S] & = E[Y^1 - Y^0 \\mid D = 0, S] \\\\\n",
    "                        & = E[Y^1 \\mid D = 0, S] - E[Y^0 \\mid D = 0, S] \\\\\n",
    "                        & = E[Y^1 \\mid D = 1, S] - E[Y^0 \\mid D = 0, S] \\\\\n",
    "                        & = E[Y \\mid D = 1, S] - E[Y \\mid D = 0, S] \\\\\n",
    "\\end{align*}\n",
    "\n",
    "**ATT**\n",
    "\\begin{align*}\n",
    "E[\\delta \\mid D = 1, S] & = E[Y^1 - Y^0 \\mid D = 1, S] \\\\\n",
    "                        & = E[Y^1 \\mid D = 1, S] - E[Y^0 \\mid D = 1, S] \\\\\n",
    "                        & = E[Y^1 \\mid D = 1, S] - E[Y^0 \\mid D = 0, S] \\\\\n",
    "                        & = E[Y \\mid D = 1, S] - E[Y \\mid D = 0, S] \\\\\n",
    "\\end{align*}"
   ]
  },
  {
   "cell_type": "markdown",
   "metadata": {
    "pycharm": {},
    "slideshow": {
     "slide_type": "slide"
    }
   },
   "source": [
    "<img src=\"material/fig-matching-demonstration-one.png\" height=500 width=500 />"
   ]
  },
  {
   "cell_type": "markdown",
   "metadata": {
    "pycharm": {},
    "slideshow": {
     "slide_type": "slide"
    }
   },
   "source": [
    "Let's study these idealized conditions for a simulated dataset."
   ]
  },
  {
   "cell_type": "code",
   "execution_count": 31,
   "metadata": {
    "pycharm": {}
   },
   "outputs": [],
   "source": [
    "def get_sample_matching_demonstration_1(num_agents):\n",
    "    \"\"\"Simulate sample\n",
    "\n",
    "    Simulates a sample based for mathcing demonstration one using the information provided\n",
    "    in Table 6.1.\n",
    "\n",
    "    Args:\n",
    "        num_agents: An integer that specifies the number of individuals\n",
    "            to sample.\n",
    "       \n",
    "    Returns:\n",
    "        Returns a dataframe with the observables (Y, S, D) as well as\n",
    "        the unobservables (Y_1, Y_0).\n",
    "    \"\"\"\n",
    "\n",
    "    def get_potential_outcomes(s):\n",
    "        \"\"\" Get potential outcomes.\n",
    "       \n",
    "        Assigns the potential outcomes based on the observable S and\n",
    "        the information in Table 6.1.\n",
    "       \n",
    "        Notes:\n",
    "            The two potential outcomes are solely a function of the \n",
    "            observable and are not associated with the treatment\n",
    "            variable D.\n",
    "       \n",
    "        Args:\n",
    "            s: an integer for the value of the stratification variable\n",
    "           \n",
    "        Returns:\n",
    "            A tuple with the two potential outcomes.         \n",
    "        \"\"\"\n",
    "        if s == 1:\n",
    "            y_1, y_0 = 4, 2\n",
    "        elif s == 2:\n",
    "            y_1, y_0 = 8, 6\n",
    "        elif s == 3:\n",
    "            y_1, y_0 = 14, 10\n",
    "        else:\n",
    "            raise AssertionError\n",
    "\n",
    "        # We want some randomness.\n",
    "        y_1 += np.random.normal()\n",
    "        y_0 += np.random.normal()\n",
    "\n",
    "        return y_1, y_0\n",
    "\n",
    "    # Store some information about the sample variables\n",
    "    # and initialize an empty dataframe.\n",
    "    info = OrderedDict()\n",
    "    info[\"Y\"] = np.float\n",
    "    info[\"D\"] = np.int\n",
    "    info[\"S\"] = np.int\n",
    "    info[\"Y_1\"] = np.float\n",
    "    info[\"Y_0\"] = np.float\n",
    "\n",
    "    df = pd.DataFrame(columns=info.keys())\n",
    "\n",
    "    for i in range(num_agents):\n",
    "        # Simulate from the joint distribution of the\n",
    "        # observables.\n",
    "        u = np.random.uniform()\n",
    "        if 0.00 <= u < 0.36:\n",
    "            s, d = 1, 0\n",
    "        elif 0.36 <= u < 0.48:\n",
    "            s, d = 2, 0\n",
    "        elif 0.48 <= u < 0.60:\n",
    "            s, d = 3, 0\n",
    "        elif 0.60 <= u < 0.68:\n",
    "            s, d = 1, 1\n",
    "        elif 0.68 <= u < 0.80:\n",
    "            s, d = 2, 1\n",
    "        else:\n",
    "            s, d = 3, 1\n",
    "\n",
    "        # Get potential outcomes and determine observed\n",
    "        # outcome.\n",
    "        y_1, y_0 = get_potential_outcomes(s)\n",
    "        y = d * y_1 + (1 - d) * y_0\n",
    "\n",
    "        # Collect information\n",
    "        df.loc[i] = y, d, s, y_1, y_0\n",
    "\n",
    "    # We want to enforce suitable types for each column.\n",
    "    # Unfortunately, this cannot be done at the time of\n",
    "    # initialization.\n",
    "    df = df.astype(info)\n",
    "\n",
    "    return df"
   ]
  },
  {
   "cell_type": "markdown",
   "metadata": {},
   "source": [
    "Let's see the sampling in action."
   ]
  },
  {
   "cell_type": "code",
   "execution_count": 3,
   "metadata": {
    "pycharm": {},
    "slideshow": {
     "slide_type": "-"
    }
   },
   "outputs": [
    {
     "data": {
      "text/html": [
       "<div>\n",
       "<style scoped>\n",
       "    .dataframe tbody tr th:only-of-type {\n",
       "        vertical-align: middle;\n",
       "    }\n",
       "\n",
       "    .dataframe tbody tr th {\n",
       "        vertical-align: top;\n",
       "    }\n",
       "\n",
       "    .dataframe thead th {\n",
       "        text-align: right;\n",
       "    }\n",
       "</style>\n",
       "<table border=\"1\" class=\"dataframe\">\n",
       "  <thead>\n",
       "    <tr style=\"text-align: right;\">\n",
       "      <th></th>\n",
       "      <th>Y</th>\n",
       "      <th>D</th>\n",
       "      <th>S</th>\n",
       "    </tr>\n",
       "  </thead>\n",
       "  <tbody>\n",
       "    <tr>\n",
       "      <th>0</th>\n",
       "      <td>7.047903</td>\n",
       "      <td>1</td>\n",
       "      <td>2</td>\n",
       "    </tr>\n",
       "    <tr>\n",
       "      <th>1</th>\n",
       "      <td>11.651437</td>\n",
       "      <td>0</td>\n",
       "      <td>3</td>\n",
       "    </tr>\n",
       "    <tr>\n",
       "      <th>2</th>\n",
       "      <td>13.795799</td>\n",
       "      <td>1</td>\n",
       "      <td>3</td>\n",
       "    </tr>\n",
       "    <tr>\n",
       "      <th>3</th>\n",
       "      <td>5.133260</td>\n",
       "      <td>0</td>\n",
       "      <td>2</td>\n",
       "    </tr>\n",
       "    <tr>\n",
       "      <th>4</th>\n",
       "      <td>5.380809</td>\n",
       "      <td>0</td>\n",
       "      <td>2</td>\n",
       "    </tr>\n",
       "  </tbody>\n",
       "</table>\n",
       "</div>"
      ],
      "text/plain": [
       "           Y  D  S\n",
       "0   7.047903  1  2\n",
       "1  11.651437  0  3\n",
       "2  13.795799  1  3\n",
       "3   5.133260  0  2\n",
       "4   5.380809  0  2"
      ]
     },
     "execution_count": 3,
     "metadata": {},
     "output_type": "execute_result"
    }
   ],
   "source": [
    "df = get_sample_matching_demonstration_1(num_agents=10000)\n",
    "df[[\"Y\", \"D\", \"S\"]].head()"
   ]
  },
  {
   "cell_type": "code",
   "execution_count": 4,
   "metadata": {
    "pycharm": {},
    "slideshow": {
     "slide_type": "slide"
    }
   },
   "outputs": [
    {
     "name": "stdout",
     "output_type": "stream",
     "text": [
      "The true average treatment effect is 2.647\n"
     ]
    }
   ],
   "source": [
    "print(\n",
    "    \"The true average treatment effect is {:5.3f}\".format(\n",
    "        (df[\"Y_1\"] - df[\"Y_0\"]).mean()\n",
    "    )\n",
    ")"
   ]
  },
  {
   "cell_type": "code",
   "execution_count": 5,
   "metadata": {
    "pycharm": {},
    "slideshow": {
     "slide_type": "-"
    }
   },
   "outputs": [
    {
     "name": "stdout",
     "output_type": "stream",
     "text": [
      "The naive estimate is 5.847\n"
     ]
    }
   ],
   "source": [
    "stat = df[\"Y\"][df[\"D\"] == 1].mean() - df[\"Y\"][df[\"D\"] == 0].mean()\n",
    "print(\"The naive estimate is {:5.3f}\".format(stat))"
   ]
  },
  {
   "cell_type": "markdown",
   "metadata": {
    "pycharm": {},
    "slideshow": {
     "slide_type": "slide"
    }
   },
   "source": [
    "What to do?"
   ]
  },
  {
   "cell_type": "code",
   "execution_count": 6,
   "metadata": {
    "pycharm": {},
    "slideshow": {
     "slide_type": "-"
    }
   },
   "outputs": [
    {
     "data": {
      "text/plain": [
       "S  D\n",
       "1  0     2.019014\n",
       "   1     4.026830\n",
       "2  0     6.017456\n",
       "   1     8.001276\n",
       "3  0     9.977920\n",
       "   1    13.980587\n",
       "Name: Y, dtype: float64"
      ]
     },
     "execution_count": 6,
     "metadata": {},
     "output_type": "execute_result"
    }
   ],
   "source": [
    "df.groupby([\"S\", \"D\"])[\"Y\"].mean()"
   ]
  },
  {
   "cell_type": "markdown",
   "metadata": {
    "pycharm": {},
    "slideshow": {
     "slide_type": "slide"
    }
   },
   "source": [
    "Note that the observed outcomes within each stratum correspond to the average potential outcome \n",
    "within the stratum. We can compute the average treatment effect by looking at the difference within each strata."
   ]
  },
  {
   "cell_type": "code",
   "execution_count": 7,
   "metadata": {
    "pycharm": {},
    "slideshow": {
     "slide_type": "-"
    }
   },
   "outputs": [
    {
     "name": "stdout",
     "output_type": "stream",
     "text": [
      "Exploiting perfect stratification, we estimate 2.640\n"
     ]
    }
   ],
   "source": [
    "stat = (4 - 2) * 0.44 + (8 - 6) * 0.24 + (14 - 10) * 0.32\n",
    "print(\"Exploiting perfect stratification, we estimate {:5.3f}\".format(stat))"
   ]
  },
  {
   "cell_type": "markdown",
   "metadata": {
    "pycharm": {},
    "slideshow": {
     "slide_type": "-"
    }
   },
   "source": [
    "The ATT and ATC can be computed analogously just by applying the appropriate weights to the strata-specific effect of treatment."
   ]
  },
  {
   "cell_type": "markdown",
   "metadata": {
    "pycharm": {},
    "slideshow": {
     "slide_type": "slide"
    }
   },
   "source": [
    "More generally.\n",
    "\n",
    "\\begin{align*}\n",
    "\\{E_N [y_i \\mid d_i = 1, s = s_i] - E_N [y_i \\mid d_i = 0, s = s_i]\\} \\\\\n",
    "\\xrightarrow{p} E[Y^1 - Y^0\\mid S = s] = E[\\delta \\mid S = s].\n",
    "\\end{align*}\n",
    "Weighted sums of these stratified estimates can then be taken such as for the unconditional ATE:\n",
    "\\begin{align*}\n",
    "& \\sum_s \\{E_N[y_i \\mid d_i = 1, s_i = s] - E_N[y_i \\mid d_i = 0, s_i = s]\\} \\\\\n",
    "& * {\\Pr}_N[s_i = s] \\xrightarrow{p} E[\\delta]\n",
    "\\end{align*}\n"
   ]
  },
  {
   "cell_type": "markdown",
   "metadata": {
    "pycharm": {},
    "slideshow": {
     "slide_type": "slide"
    }
   },
   "source": [
    "This examples shows all of the basic principles in matching estimators that we will discuss in \n",
    "greater detail in this lecture. \n",
    "\n",
    "* Treatment and control subjects are matched together in the sense that they are grouped together \n",
    "into strata.\n",
    "\n",
    "* An average difference between the outcomes of the treatment and control subjects is estimated, \n",
    "based on a weighting of the strata by common distribution."
   ]
  },
  {
   "cell_type": "markdown",
   "metadata": {
    "pycharm": {},
    "slideshow": {
     "slide_type": "slide"
    }
   },
   "source": [
    "### Overlap conditions"
   ]
  },
  {
   "cell_type": "code",
   "execution_count": 8,
   "metadata": {
    "pycharm": {},
    "slideshow": {
     "slide_type": "-"
    }
   },
   "outputs": [
    {
     "data": {
      "text/html": [
       "<div>\n",
       "<style scoped>\n",
       "    .dataframe tbody tr th:only-of-type {\n",
       "        vertical-align: middle;\n",
       "    }\n",
       "\n",
       "    .dataframe tbody tr th {\n",
       "        vertical-align: top;\n",
       "    }\n",
       "\n",
       "    .dataframe thead th {\n",
       "        text-align: right;\n",
       "    }\n",
       "</style>\n",
       "<table border=\"1\" class=\"dataframe\">\n",
       "  <thead>\n",
       "    <tr style=\"text-align: right;\">\n",
       "      <th></th>\n",
       "      <th>Y</th>\n",
       "      <th>D</th>\n",
       "      <th>S</th>\n",
       "    </tr>\n",
       "  </thead>\n",
       "  <tbody>\n",
       "    <tr>\n",
       "      <th>0</th>\n",
       "      <td>2.070880</td>\n",
       "      <td>0</td>\n",
       "      <td>1</td>\n",
       "    </tr>\n",
       "    <tr>\n",
       "      <th>1</th>\n",
       "      <td>14.946911</td>\n",
       "      <td>1</td>\n",
       "      <td>3</td>\n",
       "    </tr>\n",
       "    <tr>\n",
       "      <th>2</th>\n",
       "      <td>6.841465</td>\n",
       "      <td>1</td>\n",
       "      <td>2</td>\n",
       "    </tr>\n",
       "    <tr>\n",
       "      <th>3</th>\n",
       "      <td>10.765369</td>\n",
       "      <td>0</td>\n",
       "      <td>3</td>\n",
       "    </tr>\n",
       "    <tr>\n",
       "      <th>4</th>\n",
       "      <td>7.396803</td>\n",
       "      <td>1</td>\n",
       "      <td>2</td>\n",
       "    </tr>\n",
       "  </tbody>\n",
       "</table>\n",
       "</div>"
      ],
      "text/plain": [
       "           Y  D  S\n",
       "0   2.070880  0  1\n",
       "1  14.946911  1  3\n",
       "2   6.841465  1  2\n",
       "3  10.765369  0  3\n",
       "4   7.396803  1  2"
      ]
     },
     "execution_count": 8,
     "metadata": {},
     "output_type": "execute_result"
    }
   ],
   "source": [
    "df = get_sample_matching_demonstration_2(num_agents=1000)\n",
    "df[[\"Y\", \"D\", \"S\"]].head()"
   ]
  },
  {
   "cell_type": "code",
   "execution_count": 9,
   "metadata": {
    "pycharm": {},
    "slideshow": {
     "slide_type": "slide"
    }
   },
   "outputs": [
    {
     "data": {
      "text/plain": [
       "S  D\n",
       "1  0     1.979601\n",
       "2  0     6.000293\n",
       "   1     7.992382\n",
       "3  0    10.100675\n",
       "   1    14.066494\n",
       "Name: Y, dtype: float64"
      ]
     },
     "execution_count": 9,
     "metadata": {},
     "output_type": "execute_result"
    }
   ],
   "source": [
    "df.groupby([\"S\", \"D\"])[\"Y\"].mean()"
   ]
  },
  {
   "cell_type": "markdown",
   "metadata": {
    "pycharm": {},
    "slideshow": {
     "slide_type": "-"
    }
   },
   "source": [
    "What can we do?"
   ]
  },
  {
   "cell_type": "markdown",
   "metadata": {
    "pycharm": {},
    "slideshow": {
     "slide_type": "slide"
    }
   },
   "source": [
    "## Matching as weighting\n",
    "\n",
    "\n",
    "As indicated by the stylized example, there are often many strata where we do not have treated and control individuals available at the same time.\n",
    "\n",
    "$\\rightarrow$ combine information from different strata with the same propensity score $p$"
   ]
  },
  {
   "cell_type": "markdown",
   "metadata": {
    "pycharm": {},
    "slideshow": {
     "slide_type": "slide"
    }
   },
   "source": [
    "**Definition** The estimated propensity score is the estimated probability of taking the treatment as a function of variables that predict treatment assignment, i.e. $\\Pr[D = 1 \\mid S]$.\n",
    "\n",
    "$\\rightarrow$ stratifying on the propensity score itself ameliorates the sparseness problem because the propensity score can be treated as a single stratifying variable."
   ]
  },
  {
   "cell_type": "code",
   "execution_count": 10,
   "metadata": {
    "pycharm": {},
    "slideshow": {
     "slide_type": "slide"
    }
   },
   "outputs": [
    {
     "data": {
      "text/html": [
       "<div>\n",
       "<style scoped>\n",
       "    .dataframe tbody tr th:only-of-type {\n",
       "        vertical-align: middle;\n",
       "    }\n",
       "\n",
       "    .dataframe tbody tr th {\n",
       "        vertical-align: top;\n",
       "    }\n",
       "\n",
       "    .dataframe thead th {\n",
       "        text-align: right;\n",
       "    }\n",
       "</style>\n",
       "<table border=\"1\" class=\"dataframe\">\n",
       "  <thead>\n",
       "    <tr style=\"text-align: right;\">\n",
       "      <th></th>\n",
       "      <th>a</th>\n",
       "      <th>b</th>\n",
       "      <th>d</th>\n",
       "      <th>y</th>\n",
       "      <th>y_1</th>\n",
       "      <th>y_0</th>\n",
       "      <th>p</th>\n",
       "    </tr>\n",
       "  </thead>\n",
       "  <tbody>\n",
       "    <tr>\n",
       "      <th>0</th>\n",
       "      <td>0.01</td>\n",
       "      <td>0.03</td>\n",
       "      <td>1</td>\n",
       "      <td>99.128694</td>\n",
       "      <td>99.128694</td>\n",
       "      <td>96.161890</td>\n",
       "      <td>0.332700</td>\n",
       "    </tr>\n",
       "    <tr>\n",
       "      <th>1</th>\n",
       "      <td>0.01</td>\n",
       "      <td>0.05</td>\n",
       "      <td>1</td>\n",
       "      <td>100.514124</td>\n",
       "      <td>100.514124</td>\n",
       "      <td>103.667086</td>\n",
       "      <td>0.335369</td>\n",
       "    </tr>\n",
       "    <tr>\n",
       "      <th>2</th>\n",
       "      <td>0.01</td>\n",
       "      <td>0.05</td>\n",
       "      <td>0</td>\n",
       "      <td>99.861575</td>\n",
       "      <td>94.614633</td>\n",
       "      <td>99.861575</td>\n",
       "      <td>0.335369</td>\n",
       "    </tr>\n",
       "    <tr>\n",
       "      <th>3</th>\n",
       "      <td>0.01</td>\n",
       "      <td>0.09</td>\n",
       "      <td>0</td>\n",
       "      <td>97.367721</td>\n",
       "      <td>99.070555</td>\n",
       "      <td>97.367721</td>\n",
       "      <td>0.340740</td>\n",
       "    </tr>\n",
       "    <tr>\n",
       "      <th>4</th>\n",
       "      <td>0.01</td>\n",
       "      <td>0.13</td>\n",
       "      <td>0</td>\n",
       "      <td>98.616631</td>\n",
       "      <td>95.668702</td>\n",
       "      <td>98.616631</td>\n",
       "      <td>0.346151</td>\n",
       "    </tr>\n",
       "  </tbody>\n",
       "</table>\n",
       "</div>"
      ],
      "text/plain": [
       "      a     b  d           y         y_1         y_0         p\n",
       "0  0.01  0.03  1   99.128694   99.128694   96.161890  0.332700\n",
       "1  0.01  0.05  1  100.514124  100.514124  103.667086  0.335369\n",
       "2  0.01  0.05  0   99.861575   94.614633   99.861575  0.335369\n",
       "3  0.01  0.09  0   97.367721   99.070555   97.367721  0.340740\n",
       "4  0.01  0.13  0   98.616631   95.668702   98.616631  0.346151"
      ]
     },
     "execution_count": 10,
     "metadata": {},
     "output_type": "execute_result"
    }
   ],
   "source": [
    "a_grid = np.linspace(0.01, 1.00, 100)\n",
    "b_grid = np.linspace(0.01, 1.00, 100)\n",
    "\n",
    "df, counts = get_sample_matching_demonstration_3(a_grid, b_grid)\n",
    "df.head()"
   ]
  },
  {
   "cell_type": "markdown",
   "metadata": {
    "pycharm": {},
    "slideshow": {
     "slide_type": "slide"
    }
   },
   "source": [
    "**underlying causal graphs**\n",
    "\n",
    "<img src=\"material/fig-matching-demonstration-3.png\" height=500 width=500 />"
   ]
  },
  {
   "cell_type": "markdown",
   "metadata": {
    "pycharm": {},
    "slideshow": {
     "slide_type": "slide"
    }
   },
   "source": [
    "We will now look at different ways to construct estimates for the usual causal parameters. So, we first compute their true counterparts."
   ]
  },
  {
   "cell_type": "code",
   "execution_count": 11,
   "metadata": {
    "pycharm": {},
    "slideshow": {
     "slide_type": "-"
    }
   },
   "outputs": [],
   "source": [
    "true_effects = list()\n",
    "true_effects += [(df[\"y_1\"] - df[\"y_0\"])[(df[\"d\"] == 1)].mean()]\n",
    "true_effects += [(df[\"y_1\"] - df[\"y_0\"])[(df[\"d\"] == 0)].mean()]\n",
    "true_effects += [(df[\"y_1\"] - df[\"y_0\"]).mean()]"
   ]
  },
  {
   "cell_type": "code",
   "execution_count": 12,
   "metadata": {
    "pycharm": {},
    "slideshow": {
     "slide_type": "slide"
    }
   },
   "outputs": [
    {
     "name": "stdout",
     "output_type": "stream",
     "text": [
      "The true estimate of the average causal effect is 4.486\n",
      "The naive estimate of the average causal effect is 4.881\n"
     ]
    }
   ],
   "source": [
    "print(\n",
    "    \"The true estimate of the average causal effect is {:5.3f}\".format(\n",
    "        true_effects[-1]\n",
    "    )\n",
    ")\n",
    "\n",
    "stat = df[\"y\"][df[\"d\"] == 1].mean() - df[\"y\"][df[\"d\"] == 0].mean()\n",
    "print(\n",
    "    \"The naive estimate of the average causal effect is {:5.3f}\".format(stat)\n",
    ")"
   ]
  },
  {
   "cell_type": "markdown",
   "metadata": {
    "pycharm": {},
    "slideshow": {
     "slide_type": "slide"
    }
   },
   "source": [
    "How about the issue of sparsity on the data?"
   ]
  },
  {
   "cell_type": "code",
   "execution_count": 13,
   "metadata": {
    "pycharm": {},
    "slideshow": {
     "slide_type": "-"
    }
   },
   "outputs": [
    {
     "data": {
      "image/png": "[encoded data removed]",
      "text/plain": [
       "<Figure size 432x288 with 1 Axes>"
      ]
     },
     "metadata": {
      "needs_background": "light"
     },
     "output_type": "display_data"
    }
   ],
   "source": [
    "get_sparsity_pattern_overall(counts)"
   ]
  },
  {
   "cell_type": "code",
   "execution_count": 14,
   "metadata": {
    "pycharm": {},
    "slideshow": {
     "slide_type": "slide"
    }
   },
   "outputs": [
    {
     "data": {
      "image/png": "[encoded data removed]",
      "text/plain": [
       "<Figure size 432x288 with 2 Axes>"
      ]
     },
     "metadata": {
      "needs_background": "light"
     },
     "output_type": "display_data"
    }
   ],
   "source": [
    "get_sparsity_pattern_by_treatment(counts)"
   ]
  },
  {
   "cell_type": "markdown",
   "metadata": {
    "pycharm": {},
    "slideshow": {
     "slide_type": "slide"
    }
   },
   "source": [
    "How does the propensity score $P(D = 1\\mid S)$ as a function of the observables $(a, b)$ look like?"
   ]
  },
  {
   "cell_type": "code",
   "execution_count": 15,
   "metadata": {
    "pycharm": {},
    "slideshow": {
     "slide_type": "-"
    }
   },
   "outputs": [
    {
     "data": {
      "image/png": "[encoded data removed]",
      "text/plain": [
       "<Figure size 432x288 with 1 Axes>"
      ]
     },
     "metadata": {
      "needs_background": "light"
     },
     "output_type": "display_data"
    }
   ],
   "source": [
    "plot_propensity_score(a_grid, b_grid)"
   ]
  },
  {
   "cell_type": "markdown",
   "metadata": {
    "pycharm": {},
    "slideshow": {
     "slide_type": "slide"
    }
   },
   "source": [
    "We still must be worried about common support."
   ]
  },
  {
   "cell_type": "code",
   "execution_count": 16,
   "metadata": {
    "pycharm": {},
    "slideshow": {
     "slide_type": "-"
    }
   },
   "outputs": [
    {
     "data": {
      "image/png": "[encoded data removed]",
      "text/plain": [
       "<Figure size 432x288 with 1 Axes>"
      ]
     },
     "metadata": {
      "needs_background": "light"
     },
     "output_type": "display_data"
    }
   ],
   "source": [
    "get_common_support(df)"
   ]
  },
  {
   "cell_type": "markdown",
   "metadata": {
    "pycharm": {},
    "slideshow": {
     "slide_type": "slide"
    }
   },
   "source": [
    "\n",
    "\\begin{align*}\n",
    "\\hat{\\delta}_{\\text{ATT, weight}} \\equiv \\left( \\frac{1}{n^1}\\sum_{i:d_i = 1} y_i\\right) \n",
    "- \\left(\\frac{\\sum_{i:d_i=0}\\hat{r}_i y_i}{\\sum_{i:d_i = 0} \\hat{r}_i}\\right)\n",
    "\\end{align*}\n",
    "\n",
    "\\begin{align*}\n",
    "\\hat{\\delta}_{\\text{ATC, weight}} \\equiv \n",
    "\\left(\n",
    "\\frac{\\sum_{i: d_i = 1}\\frac{y_i}{\\hat{r}_i}}{\\sum_{i: d_i = 1}\\frac{1}{\\hat{r}_i}}\n",
    "\\right)\n",
    "- \\left(\\frac{1}{n^0} \\sum_{i: d_i = 0} y_i\\right) \n",
    "\\end{align*}\n",
    "\n",
    "\\begin{align*}\n",
    "\\hat{\\delta}_{\\text{ATE, weight}} \\equiv \\left(\\frac{1}{n}\\sum_{i}d_i\\right) \\hat{\\delta}_{\\text{ATT, weight}} +  \\left(1 - \\frac{1}{n}\\sum_{i}d_i\\right) \\hat{\\delta}_{\\text{ATC, weight}}\n",
    "\\end{align*}"
   ]
  },
  {
   "cell_type": "markdown",
   "metadata": {
    "pycharm": {},
    "slideshow": {
     "slide_type": "slide"
    }
   },
   "source": [
    "\n",
    "\n",
    "**Weights** \n",
    "\n",
    "\\begin{align*}\n",
    "r_i = \\frac{p_i}{1 - p_i}\n",
    "\\end{align*}"
   ]
  },
  {
   "cell_type": "code",
   "execution_count": 17,
   "metadata": {
    "pycharm": {},
    "slideshow": {
     "slide_type": "slide"
    }
   },
   "outputs": [
    {
     "data": {
      "image/png": "[encoded data removed]",
      "text/plain": [
       "<Figure size 432x288 with 1 Axes>"
      ]
     },
     "metadata": {
      "needs_background": "light"
     },
     "output_type": "display_data"
    }
   ],
   "source": [
    "plot_weights()"
   ]
  },
  {
   "cell_type": "code",
   "execution_count": 18,
   "metadata": {
    "pycharm": {},
    "slideshow": {
     "slide_type": "slide"
    }
   },
   "outputs": [
    {
     "name": "stdout",
     "output_type": "stream",
     "text": [
      "\n",
      "True\n",
      "estimated: ATT 4.615 ATC 4.380 ATE 4.489\n",
      "true:      ATT 4.632 ATC 4.359 ATE 4.486\n",
      "Optimization terminated successfully.\n",
      "         Current function value: 0.683323\n",
      "         Iterations 4\n",
      "\n",
      "Correct\n",
      "estimated: ATT 4.616 ATC 4.401 ATE 4.501\n",
      "true:      ATT 4.632 ATC 4.359 ATE 4.486\n",
      "Optimization terminated successfully.\n",
      "         Current function value: 0.683523\n",
      "         Iterations 4\n",
      "\n",
      "Misspecified\n",
      "estimated: ATT 4.624 ATC 4.394 ATE 4.501\n",
      "true:      ATT 4.632 ATC 4.359 ATE 4.486\n"
     ]
    }
   ],
   "source": [
    "# This example is important as it introduces students to the\n",
    "# actual setup for the estimation of the propensity score\n",
    "# and its potential misspecification.\n",
    "def get_att_weight(df, p):\n",
    "    \"\"\" Get weighted ATT.\n",
    "    \n",
    "    Calculates the weighted ATT basd on a provided\n",
    "    dataset and the propensity score.\n",
    "    \n",
    "    Args:\n",
    "        df: A dataframe with the observed data.\n",
    "        p: A numpy array with the weights.\n",
    "        \n",
    "    Returns:\n",
    "        A float which corresponds to the ATT.\n",
    "    \"\"\"\n",
    "    weights = get_odds(p)\n",
    "\n",
    "    is_control = df[\"d\"] == 0\n",
    "    is_treated = df[\"d\"] == 1\n",
    "\n",
    "    value, weights = df[\"y\"][is_control], weights[is_control]\n",
    "    att = df[\"y\"][is_treated].mean() - np.average(value, weights=weights)\n",
    "\n",
    "    return att\n",
    "\n",
    "\n",
    "def get_atc_weight(df, p):\n",
    "    \"\"\" Get weighted ATC.\n",
    "    \n",
    "    Calculates the weighted ATC basd on a provided\n",
    "    dataset and the propensity score.\n",
    "    \n",
    "    Args:\n",
    "        df: A dataframe with the observed data.\n",
    "        p: A numpy array with the weights.\n",
    "        \n",
    "    Returns:\n",
    "        A float which corresponds to the ATC.\n",
    "    \"\"\"\n",
    "    weights = get_inv_odds(p)\n",
    "\n",
    "    is_control = df[\"d\"] == 0\n",
    "    is_treated = df[\"d\"] == 1\n",
    "\n",
    "    value, weights = df[\"y\"][is_treated], weights[is_treated]\n",
    "    atc = np.average(value, weights=weights) - df[\"y\"][is_control].mean()\n",
    "\n",
    "    return atc\n",
    "\n",
    "\n",
    "def get_ate_weight(df, p):\n",
    "    \"\"\" Get weighted ATE.\n",
    "    \n",
    "    Calculates the weighted ATE basd on a provided\n",
    "    dataset and the propensity score.\n",
    "    \n",
    "    Args:\n",
    "        df: A dataframe with the observed data.\n",
    "        p: A numpy array with the weights.\n",
    "        \n",
    "    Returns:\n",
    "        A float which corresponds to the ATE.\n",
    "    \"\"\"\n",
    "    share_treated = df[\"d\"].value_counts(normalize=True)[1]\n",
    "\n",
    "    atc = get_atc_weight(df, p)\n",
    "    att = get_att_weight(df, p)\n",
    "\n",
    "    return share_treated * att + (1.0 - share_treated) * atc\n",
    "\n",
    "\n",
    "rslt = dict()\n",
    "for model in [\"true\", \"correct\", \"misspecified\"]:\n",
    "    p = get_propensity_score_3(df, model)\n",
    "\n",
    "    rslt[model] = list()\n",
    "    rslt[model] += [get_att_weight(df, p)]\n",
    "    rslt[model] += [get_atc_weight(df, p)]\n",
    "    rslt[model] += [get_ate_weight(df, p)]\n",
    "\n",
    "    print(\"\")\n",
    "    print(model.capitalize())\n",
    "    print(\n",
    "        \"estimated: ATT {:5.3f} ATC {:5.3f} ATE {:5.3f}\".format(*rslt[model])\n",
    "    )\n",
    "    print(\n",
    "        \"true:      ATT {:5.3f} ATC {:5.3f} ATE {:5.3f}\".format(*true_effects)\n",
    "    )"
   ]
  },
  {
   "cell_type": "markdown",
   "metadata": {
    "slideshow": {
     "slide_type": "slide"
    }
   },
   "source": [
    "## Matching as data analysis algorithm\n",
    "\n",
    "\\begin{align*}\n",
    "\\hat{\\delta}_{\\text{ATT, match}} = \\frac{1}{n^1} \\sum_i \\left[\n",
    "(y_i \\mid d_i = 1) - \\sum_j \\omega_{i, j} (y_j \\mid d_j =0 )\n",
    "\\right]\n",
    "\\end{align*}\n",
    "\n",
    "\\begin{align*}\n",
    "\\hat{\\delta}_{\\text{ATC, match}} = \\frac{1}{n^0} \\sum_j \\left[\n",
    " \\sum_i \\omega_{j, i} (y_i\\mid d_i = 1) - (y_j \\mid d_j = 0)\n",
    "\\right]\n",
    "\\end{align*}"
   ]
  },
  {
   "cell_type": "markdown",
   "metadata": {
    "slideshow": {
     "slide_type": "slide"
    }
   },
   "source": [
    "### Basic variants\n",
    "\n",
    "* exact matching\n",
    "\n",
    "    * construct counterfactual based on individuals with identical $S$\n",
    "\n",
    "\n",
    "* nearest-neighbor and caliper\n",
    "\n",
    "    * construct counterfactual based on individuals closest on a unidimensional measure, caliper ensures reasonable maximum distance"
   ]
  },
  {
   "cell_type": "markdown",
   "metadata": {
    "slideshow": {
     "slide_type": "slide"
    }
   },
   "source": [
    "* interval matching\n",
    "\n",
    "    * construct counterfactual by sorting individuals into segments based on unidimensional metric\n",
    "\n",
    "\n",
    "* kernel matching\n",
    "\n",
    "    * constructs counterfactual based on all individuals but weights them cased on the distance"
   ]
  },
  {
   "cell_type": "markdown",
   "metadata": {
    "slideshow": {
     "slide_type": "slide"
    }
   },
   "source": [
    "### Benchmarking tutorial"
   ]
  },
  {
   "cell_type": "code",
   "execution_count": 19,
   "metadata": {
    "slideshow": {
     "slide_type": "-"
    }
   },
   "outputs": [
    {
     "data": {
      "text/html": [
       "<div>\n",
       "<style scoped>\n",
       "    .dataframe tbody tr th:only-of-type {\n",
       "        vertical-align: middle;\n",
       "    }\n",
       "\n",
       "    .dataframe tbody tr th {\n",
       "        vertical-align: top;\n",
       "    }\n",
       "\n",
       "    .dataframe thead th {\n",
       "        text-align: right;\n",
       "    }\n",
       "</style>\n",
       "<table border=\"1\" class=\"dataframe\">\n",
       "  <thead>\n",
       "    <tr style=\"text-align: right;\">\n",
       "      <th></th>\n",
       "      <th>y</th>\n",
       "      <th>treat</th>\n",
       "      <th>asian</th>\n",
       "      <th>hispanic</th>\n",
       "      <th>black</th>\n",
       "      <th>natamer</th>\n",
       "      <th>urban</th>\n",
       "      <th>neast</th>\n",
       "      <th>ncentral</th>\n",
       "      <th>south</th>\n",
       "      <th>...</th>\n",
       "      <th>ncentralblack</th>\n",
       "      <th>southblack</th>\n",
       "      <th>twohisp</th>\n",
       "      <th>neasthisp</th>\n",
       "      <th>ncentralhisp</th>\n",
       "      <th>southhisp</th>\n",
       "      <th>yt</th>\n",
       "      <th>yc</th>\n",
       "      <th>dshock</th>\n",
       "      <th>d</th>\n",
       "    </tr>\n",
       "  </thead>\n",
       "  <tbody>\n",
       "    <tr>\n",
       "      <th>0</th>\n",
       "      <td>124.820446</td>\n",
       "      <td>0</td>\n",
       "      <td>0</td>\n",
       "      <td>0</td>\n",
       "      <td>0</td>\n",
       "      <td>0</td>\n",
       "      <td>0.0</td>\n",
       "      <td>1</td>\n",
       "      <td>0</td>\n",
       "      <td>0</td>\n",
       "      <td>...</td>\n",
       "      <td>0</td>\n",
       "      <td>0</td>\n",
       "      <td>0</td>\n",
       "      <td>0</td>\n",
       "      <td>0</td>\n",
       "      <td>0</td>\n",
       "      <td>128.815053</td>\n",
       "      <td>124.820446</td>\n",
       "      <td>-2.189125</td>\n",
       "      <td>3.994607</td>\n",
       "    </tr>\n",
       "    <tr>\n",
       "      <th>1</th>\n",
       "      <td>100.389487</td>\n",
       "      <td>0</td>\n",
       "      <td>0</td>\n",
       "      <td>0</td>\n",
       "      <td>0</td>\n",
       "      <td>0</td>\n",
       "      <td>0.0</td>\n",
       "      <td>1</td>\n",
       "      <td>0</td>\n",
       "      <td>0</td>\n",
       "      <td>...</td>\n",
       "      <td>0</td>\n",
       "      <td>0</td>\n",
       "      <td>0</td>\n",
       "      <td>0</td>\n",
       "      <td>0</td>\n",
       "      <td>0</td>\n",
       "      <td>104.467199</td>\n",
       "      <td>100.389487</td>\n",
       "      <td>-2.517059</td>\n",
       "      <td>4.077712</td>\n",
       "    </tr>\n",
       "    <tr>\n",
       "      <th>2</th>\n",
       "      <td>101.244684</td>\n",
       "      <td>0</td>\n",
       "      <td>0</td>\n",
       "      <td>0</td>\n",
       "      <td>0</td>\n",
       "      <td>0</td>\n",
       "      <td>0.0</td>\n",
       "      <td>1</td>\n",
       "      <td>0</td>\n",
       "      <td>0</td>\n",
       "      <td>...</td>\n",
       "      <td>0</td>\n",
       "      <td>0</td>\n",
       "      <td>0</td>\n",
       "      <td>0</td>\n",
       "      <td>0</td>\n",
       "      <td>0</td>\n",
       "      <td>105.924622</td>\n",
       "      <td>101.244684</td>\n",
       "      <td>-1.307933</td>\n",
       "      <td>4.679938</td>\n",
       "    </tr>\n",
       "    <tr>\n",
       "      <th>3</th>\n",
       "      <td>99.257258</td>\n",
       "      <td>0</td>\n",
       "      <td>0</td>\n",
       "      <td>0</td>\n",
       "      <td>0</td>\n",
       "      <td>0</td>\n",
       "      <td>0.0</td>\n",
       "      <td>1</td>\n",
       "      <td>0</td>\n",
       "      <td>0</td>\n",
       "      <td>...</td>\n",
       "      <td>0</td>\n",
       "      <td>0</td>\n",
       "      <td>0</td>\n",
       "      <td>0</td>\n",
       "      <td>0</td>\n",
       "      <td>0</td>\n",
       "      <td>97.574659</td>\n",
       "      <td>99.257258</td>\n",
       "      <td>-7.004977</td>\n",
       "      <td>-1.682599</td>\n",
       "    </tr>\n",
       "    <tr>\n",
       "      <th>4</th>\n",
       "      <td>92.977159</td>\n",
       "      <td>0</td>\n",
       "      <td>0</td>\n",
       "      <td>0</td>\n",
       "      <td>0</td>\n",
       "      <td>0</td>\n",
       "      <td>0.0</td>\n",
       "      <td>1</td>\n",
       "      <td>0</td>\n",
       "      <td>0</td>\n",
       "      <td>...</td>\n",
       "      <td>0</td>\n",
       "      <td>0</td>\n",
       "      <td>0</td>\n",
       "      <td>0</td>\n",
       "      <td>0</td>\n",
       "      <td>0</td>\n",
       "      <td>98.577122</td>\n",
       "      <td>92.977159</td>\n",
       "      <td>-0.236095</td>\n",
       "      <td>5.599963</td>\n",
       "    </tr>\n",
       "  </tbody>\n",
       "</table>\n",
       "<p>5 rows × 30 columns</p>\n",
       "</div>"
      ],
      "text/plain": [
       "            y  treat  asian  hispanic  black  natamer  urban  neast  ncentral  \\\n",
       "0  124.820446      0      0         0      0        0    0.0      1         0   \n",
       "1  100.389487      0      0         0      0        0    0.0      1         0   \n",
       "2  101.244684      0      0         0      0        0    0.0      1         0   \n",
       "3   99.257258      0      0         0      0        0    0.0      1         0   \n",
       "4   92.977159      0      0         0      0        0    0.0      1         0   \n",
       "\n",
       "   south  ...  ncentralblack  southblack  twohisp  neasthisp  ncentralhisp  \\\n",
       "0      0  ...              0           0        0          0             0   \n",
       "1      0  ...              0           0        0          0             0   \n",
       "2      0  ...              0           0        0          0             0   \n",
       "3      0  ...              0           0        0          0             0   \n",
       "4      0  ...              0           0        0          0             0   \n",
       "\n",
       "   southhisp          yt          yc    dshock         d  \n",
       "0          0  128.815053  124.820446 -2.189125  3.994607  \n",
       "1          0  104.467199  100.389487 -2.517059  4.077712  \n",
       "2          0  105.924622  101.244684 -1.307933  4.679938  \n",
       "3          0   97.574659   99.257258 -7.004977 -1.682599  \n",
       "4          0   98.577122   92.977159 -0.236095  5.599963  \n",
       "\n",
       "[5 rows x 30 columns]"
      ]
     },
     "execution_count": 19,
     "metadata": {},
     "output_type": "execute_result"
    }
   ],
   "source": [
    "df = get_sample_matching_demonstration_4()\n",
    "df.head()"
   ]
  },
  {
   "cell_type": "code",
   "execution_count": 20,
   "metadata": {
    "slideshow": {
     "slide_type": "slide"
    }
   },
   "outputs": [
    {
     "data": {
      "text/html": [
       "<div>\n",
       "<style scoped>\n",
       "    .dataframe tbody tr th:only-of-type {\n",
       "        vertical-align: middle;\n",
       "    }\n",
       "\n",
       "    .dataframe tbody tr th {\n",
       "        vertical-align: top;\n",
       "    }\n",
       "\n",
       "    .dataframe thead th {\n",
       "        text-align: right;\n",
       "    }\n",
       "</style>\n",
       "<table border=\"1\" class=\"dataframe\">\n",
       "  <thead>\n",
       "    <tr style=\"text-align: right;\">\n",
       "      <th></th>\n",
       "      <th>black</th>\n",
       "      <th>urban</th>\n",
       "      <th>test</th>\n",
       "    </tr>\n",
       "  </thead>\n",
       "  <tbody>\n",
       "    <tr>\n",
       "      <th>count</th>\n",
       "      <td>10000.000000</td>\n",
       "      <td>10000.00000</td>\n",
       "      <td>10000.000000</td>\n",
       "    </tr>\n",
       "    <tr>\n",
       "      <th>mean</th>\n",
       "      <td>0.096100</td>\n",
       "      <td>0.38910</td>\n",
       "      <td>-0.002229</td>\n",
       "    </tr>\n",
       "    <tr>\n",
       "      <th>std</th>\n",
       "      <td>0.294743</td>\n",
       "      <td>0.48757</td>\n",
       "      <td>0.991747</td>\n",
       "    </tr>\n",
       "    <tr>\n",
       "      <th>min</th>\n",
       "      <td>0.000000</td>\n",
       "      <td>0.00000</td>\n",
       "      <td>-3.862709</td>\n",
       "    </tr>\n",
       "    <tr>\n",
       "      <th>25%</th>\n",
       "      <td>0.000000</td>\n",
       "      <td>0.00000</td>\n",
       "      <td>-0.676463</td>\n",
       "    </tr>\n",
       "    <tr>\n",
       "      <th>50%</th>\n",
       "      <td>0.000000</td>\n",
       "      <td>0.00000</td>\n",
       "      <td>-0.006683</td>\n",
       "    </tr>\n",
       "    <tr>\n",
       "      <th>75%</th>\n",
       "      <td>0.000000</td>\n",
       "      <td>1.00000</td>\n",
       "      <td>0.660488</td>\n",
       "    </tr>\n",
       "    <tr>\n",
       "      <th>max</th>\n",
       "      <td>1.000000</td>\n",
       "      <td>1.00000</td>\n",
       "      <td>3.722783</td>\n",
       "    </tr>\n",
       "  </tbody>\n",
       "</table>\n",
       "</div>"
      ],
      "text/plain": [
       "              black        urban          test\n",
       "count  10000.000000  10000.00000  10000.000000\n",
       "mean       0.096100      0.38910     -0.002229\n",
       "std        0.294743      0.48757      0.991747\n",
       "min        0.000000      0.00000     -3.862709\n",
       "25%        0.000000      0.00000     -0.676463\n",
       "50%        0.000000      0.00000     -0.006683\n",
       "75%        0.000000      1.00000      0.660488\n",
       "max        1.000000      1.00000      3.722783"
      ]
     },
     "execution_count": 20,
     "metadata": {},
     "output_type": "execute_result"
    }
   ],
   "source": [
    "example_covariates = [\"black\", \"urban\", \"test\"]\n",
    "df[example_covariates].describe()"
   ]
  },
  {
   "cell_type": "code",
   "execution_count": 21,
   "metadata": {
    "slideshow": {
     "slide_type": "slide"
    }
   },
   "outputs": [
    {
     "data": {
      "text/plain": [
       "<matplotlib.axes._subplots.AxesSubplot at 0x7f5411425d10>"
      ]
     },
     "execution_count": 21,
     "metadata": {},
     "output_type": "execute_result"
    },
    {
     "data": {
      "image/png": "[encoded data removed]",
      "text/plain": [
       "<Figure size 432x288 with 1 Axes>"
      ]
     },
     "metadata": {
      "needs_background": "light"
     },
     "output_type": "display_data"
    }
   ],
   "source": [
    "sns.countplot(x=\"treat\", data=df)"
   ]
  },
  {
   "cell_type": "markdown",
   "metadata": {
    "slideshow": {
     "slide_type": "slide"
    }
   },
   "source": [
    "<img src=\"material/fig-catholic-school-example.png\" height=500 width=500 />"
   ]
  },
  {
   "cell_type": "markdown",
   "metadata": {
    "slideshow": {
     "slide_type": "slide"
    }
   },
   "source": [
    "Is there any hope in identifying the $ATE$?"
   ]
  },
  {
   "cell_type": "markdown",
   "metadata": {
    "slideshow": {
     "slide_type": "slide"
    }
   },
   "source": [
    "<img src=\"material/fig-matching-demonstration-four-propensity-score.png\" height=500 width=500 />"
   ]
  },
  {
   "cell_type": "markdown",
   "metadata": {
    "slideshow": {
     "slide_type": "slide"
    }
   },
   "source": [
    "<img src=\"material/fig-matching-demonstration-four-potential-outcome.png\" height=500 width=500 />"
   ]
  },
  {
   "cell_type": "markdown",
   "metadata": {
    "slideshow": {
     "slide_type": "slide"
    }
   },
   "source": [
    "Here comes the key feature that generates the dependence between $D$ and $Y$ based on an unobservable.\n",
    "\n",
    "\\begin{align*}\n",
    "y_i^1 = y_i^0 + \\delta^\\prime_i + \\delta^{\\prime\\prime}_i\n",
    "\\end{align*}\n",
    "\n",
    "$\\rightarrow$ $\\delta^{\\prime\\prime}_i$ is a associated with one of the potential outcomes and also affects the probability to select treatment."
   ]
  },
  {
   "cell_type": "markdown",
   "metadata": {
    "slideshow": {
     "slide_type": "slide"
    }
   },
   "source": [
    "However, we can still identify the $ATT$. Why?\n",
    "\n",
    "\\begin{align*}\n",
    "E[\\delta \\mid D = 1, S] & = E[Y^1 - Y^0 \\mid D = 1, S] \\\\\n",
    "                        & = E[Y^1 \\mid D = 1, S] - E[Y^0 \\mid D = 1, S] \\\\\n",
    "                        & = E[Y^1 \\mid D = 1, S] - E[Y^0 \\mid D = 0, S] \\\\\n",
    "                        & = E[Y \\mid D = 1, S] - E[Y \\mid D = 0, S] \\\\\n",
    "\\end{align*}"
   ]
  },
  {
   "cell_type": "code",
   "execution_count": 22,
   "metadata": {
    "slideshow": {
     "slide_type": "-"
    }
   },
   "outputs": [
    {
     "name": "stdout",
     "output_type": "stream",
     "text": [
      "The true ATT is 6.957\n"
     ]
    }
   ],
   "source": [
    "stat = (df[\"yt\"] - df[\"yc\"])[df[\"treat\"] == 1].mean()\n",
    "print(\"The true ATT is {:5.3f}\".format(stat))"
   ]
  },
  {
   "cell_type": "code",
   "execution_count": 23,
   "metadata": {
    "slideshow": {
     "slide_type": "slide"
    }
   },
   "outputs": [
    {
     "name": "stdout",
     "output_type": "stream",
     "text": [
      "Optimization terminated successfully.\n",
      "         Current function value: 0.252643\n",
      "         Iterations 8\n"
     ]
    },
    {
     "data": {
      "image/png": "[encoded data removed]",
      "text/plain": [
       "<Figure size 432x288 with 1 Axes>"
      ]
     },
     "metadata": {
      "needs_background": "light"
     },
     "output_type": "display_data"
    }
   ],
   "source": [
    "def nearest_neighbor_algorithm_for_att(df, check_store=True):\n",
    "\n",
    "    if check_store:\n",
    "        if os.path.exists(\"matched.ngbr.pkl\"):\n",
    "            return pkl.load(open(\"matched.ngbr.pkl\", \"rb\"))\n",
    "\n",
    "    # We select all treated individuals\n",
    "    df_control = df[df[\"treat\"] == 0]\n",
    "    df_treated = df[df[\"treat\"] == 1]\n",
    "\n",
    "    rslt = np.full((df_treated.shape[0], 11), np.nan)\n",
    "\n",
    "    # We now iterate over all treated individuals and\n",
    "    # find a set of neighbors.\n",
    "    for i, (index, row) in enumerate(df_treated.iterrows()):\n",
    "\n",
    "        y, p, b, u, t = row[[\"y\", \"p\", \"black\", \"urban\", \"test\"]]\n",
    "        df_control = df_control.assign(distance=np.abs(df_control[\"p\"] - p))\n",
    "\n",
    "        idx_ngbr = df_control[\"distance\"].idxmin()\n",
    "        y_ngbr, p_ngbr = df_control.loc[idx_ngbr, [\"y\", \"p\"]]\n",
    "        b_ngbr, u_ngbr = df_control.loc[idx_ngbr, [\"black\", \"urban\"]]\n",
    "        t_ngbr = df_control.loc[idx_ngbr, [\"test\"]]\n",
    "\n",
    "        rslt[i] = [i, y, y_ngbr, p, p_ngbr, b, b_ngbr, u, u_ngbr, t, t_ngbr]\n",
    "\n",
    "    columns = [\"count\", \"y\", \"y_ngbr\", \"p\", \"p_ngbr\", \"b\", \"b_ngbr\"]\n",
    "    columns += [\"u\", \"u_ngbr\", \"t\", \"t_ngbr\"]\n",
    "    df = pd.DataFrame(rslt, columns=columns)\n",
    "\n",
    "    pkl.dump(df, open(\"matched.ngbr.pkl\", \"wb\"))\n",
    "\n",
    "    return df\n",
    "\n",
    "\n",
    "df = get_sample_matching_demonstration_4()\n",
    "df[\"p\"] = get_propensity_scores_matching_demonstration_4(df)\n",
    "get_common_support(df, \"treat\")"
   ]
  },
  {
   "cell_type": "code",
   "execution_count": 24,
   "metadata": {
    "slideshow": {
     "slide_type": "slide"
    }
   },
   "outputs": [
    {
     "data": {
      "text/plain": [
       "<seaborn.axisgrid.JointGrid at 0x7f54114f5d90>"
      ]
     },
     "execution_count": 24,
     "metadata": {},
     "output_type": "execute_result"
    },
    {
     "data": {
      "image/png": "[encoded data removed]",
      "text/plain": [
       "<Figure size 432x432 with 3 Axes>"
      ]
     },
     "metadata": {
      "needs_background": "light"
     },
     "output_type": "display_data"
    }
   ],
   "source": [
    "df_matched = nearest_neighbor_algorithm_for_att(df, False)\n",
    "sns.jointplot(\"p\", \"p_ngbr\", df_matched)"
   ]
  },
  {
   "cell_type": "code",
   "execution_count": 25,
   "metadata": {
    "slideshow": {
     "slide_type": "slide"
    }
   },
   "outputs": [
    {
     "data": {
      "text/plain": [
       "<seaborn.axisgrid.JointGrid at 0x7f5411ac2550>"
      ]
     },
     "execution_count": 25,
     "metadata": {},
     "output_type": "execute_result"
    },
    {
     "data": {
      "image/png": "[encoded data removed]",
      "text/plain": [
       "<Figure size 432x432 with 3 Axes>"
      ]
     },
     "metadata": {
      "needs_background": "light"
     },
     "output_type": "display_data"
    }
   ],
   "source": [
    "sns.jointplot(\"y\", \"y_ngbr\", df_matched)"
   ]
  },
  {
   "cell_type": "markdown",
   "metadata": {},
   "source": [
    "How do our covariantes balance across treatment status?"
   ]
  },
  {
   "cell_type": "code",
   "execution_count": 26,
   "metadata": {
    "slideshow": {
     "slide_type": "slide"
    }
   },
   "outputs": [
    {
     "data": {
      "text/html": [
       "<div>\n",
       "<style scoped>\n",
       "    .dataframe tbody tr th:only-of-type {\n",
       "        vertical-align: middle;\n",
       "    }\n",
       "\n",
       "    .dataframe tbody tr th {\n",
       "        vertical-align: top;\n",
       "    }\n",
       "\n",
       "    .dataframe thead th {\n",
       "        text-align: right;\n",
       "    }\n",
       "</style>\n",
       "<table border=\"1\" class=\"dataframe\">\n",
       "  <thead>\n",
       "    <tr style=\"text-align: right;\">\n",
       "      <th>treat</th>\n",
       "      <th>0</th>\n",
       "      <th>1</th>\n",
       "    </tr>\n",
       "  </thead>\n",
       "  <tbody>\n",
       "    <tr>\n",
       "      <th>black</th>\n",
       "      <td>0.092646</td>\n",
       "      <td>0.125475</td>\n",
       "    </tr>\n",
       "    <tr>\n",
       "      <th>urban</th>\n",
       "      <td>0.337953</td>\n",
       "      <td>0.824144</td>\n",
       "    </tr>\n",
       "    <tr>\n",
       "      <th>test</th>\n",
       "      <td>-0.039018</td>\n",
       "      <td>0.310690</td>\n",
       "    </tr>\n",
       "  </tbody>\n",
       "</table>\n",
       "</div>"
      ],
      "text/plain": [
       "treat         0         1\n",
       "black  0.092646  0.125475\n",
       "urban  0.337953  0.824144\n",
       "test  -0.039018  0.310690"
      ]
     },
     "execution_count": 26,
     "metadata": {},
     "output_type": "execute_result"
    }
   ],
   "source": [
    "df.groupby(\"treat\")[example_covariates].mean().T"
   ]
  },
  {
   "cell_type": "markdown",
   "metadata": {
    "slideshow": {
     "slide_type": "slide"
    }
   },
   "source": [
    "We now want to revisit the balancing of covariates."
   ]
  },
  {
   "cell_type": "code",
   "execution_count": 27,
   "metadata": {
    "slideshow": {
     "slide_type": "-"
    }
   },
   "outputs": [
    {
     "data": {
      "text/html": [
       "<div>\n",
       "<style scoped>\n",
       "    .dataframe tbody tr th:only-of-type {\n",
       "        vertical-align: middle;\n",
       "    }\n",
       "\n",
       "    .dataframe tbody tr th {\n",
       "        vertical-align: top;\n",
       "    }\n",
       "\n",
       "    .dataframe thead th {\n",
       "        text-align: right;\n",
       "    }\n",
       "</style>\n",
       "<table border=\"1\" class=\"dataframe\">\n",
       "  <thead>\n",
       "    <tr style=\"text-align: right;\">\n",
       "      <th>treat</th>\n",
       "      <th>0</th>\n",
       "      <th>1</th>\n",
       "    </tr>\n",
       "  </thead>\n",
       "  <tbody>\n",
       "    <tr>\n",
       "      <th>y</th>\n",
       "      <td>101.210034</td>\n",
       "      <td>108.445596</td>\n",
       "    </tr>\n",
       "    <tr>\n",
       "      <th>p</th>\n",
       "      <td>0.290813</td>\n",
       "      <td>0.290772</td>\n",
       "    </tr>\n",
       "    <tr>\n",
       "      <th>b</th>\n",
       "      <td>0.141635</td>\n",
       "      <td>0.125475</td>\n",
       "    </tr>\n",
       "    <tr>\n",
       "      <th>u</th>\n",
       "      <td>0.826996</td>\n",
       "      <td>0.824144</td>\n",
       "    </tr>\n",
       "    <tr>\n",
       "      <th>t</th>\n",
       "      <td>0.308589</td>\n",
       "      <td>0.310690</td>\n",
       "    </tr>\n",
       "  </tbody>\n",
       "</table>\n",
       "</div>"
      ],
      "text/plain": [
       "treat           0           1\n",
       "y      101.210034  108.445596\n",
       "p        0.290813    0.290772\n",
       "b        0.141635    0.125475\n",
       "u        0.826996    0.824144\n",
       "t        0.308589    0.310690"
      ]
     },
     "execution_count": 27,
     "metadata": {},
     "output_type": "execute_result"
    }
   ],
   "source": [
    "rename = {\n",
    "    \"y_ngbr\": \"y\",\n",
    "    \"p_ngbr\": \"p\",\n",
    "    \"b_ngbr\": \"b\",\n",
    "    \"u_ngbr\": \"u\",\n",
    "    \"t_ngbr\": \"t\",\n",
    "}\n",
    "\n",
    "df_control = df_matched[[\"y_ngbr\", \"p_ngbr\", \"b_ngbr\", \"u_ngbr\", \"t_ngbr\"]]\n",
    "df_control = df_control.rename(columns=rename)\n",
    "df_control = df_control.assign(treat=0)\n",
    "\n",
    "df_treated = df_matched[[\"y\", \"p\", \"b\", \"u\", \"t\"]]\n",
    "df_treated = df_treated.assign(treat=1)\n",
    "\n",
    "df_subset = pd.concat([df_treated, df_control])\n",
    "df_subset.groupby(\"treat\").mean().T"
   ]
  },
  {
   "cell_type": "markdown",
   "metadata": {
    "slideshow": {
     "slide_type": "slide"
    }
   },
   "source": [
    "Let's take a little detour and look at the balancing of observables in the Lalonde dataset."
   ]
  },
  {
   "cell_type": "code",
   "execution_count": 28,
   "metadata": {
    "slideshow": {
     "slide_type": "-"
    }
   },
   "outputs": [
    {
     "data": {
      "text/html": [
       "<div>\n",
       "<style scoped>\n",
       "    .dataframe tbody tr th:only-of-type {\n",
       "        vertical-align: middle;\n",
       "    }\n",
       "\n",
       "    .dataframe tbody tr th {\n",
       "        vertical-align: top;\n",
       "    }\n",
       "\n",
       "    .dataframe thead th {\n",
       "        text-align: right;\n",
       "    }\n",
       "</style>\n",
       "<table border=\"1\" class=\"dataframe\">\n",
       "  <thead>\n",
       "    <tr style=\"text-align: right;\">\n",
       "      <th></th>\n",
       "      <th>treat</th>\n",
       "      <th>age</th>\n",
       "      <th>ed</th>\n",
       "      <th>black</th>\n",
       "      <th>hisp</th>\n",
       "      <th>married</th>\n",
       "      <th>nodeg</th>\n",
       "      <th>re74</th>\n",
       "      <th>re75</th>\n",
       "      <th>re78</th>\n",
       "      <th>age2</th>\n",
       "      <th>Y</th>\n",
       "      <th>Y_0</th>\n",
       "      <th>Y_1</th>\n",
       "      <th>D</th>\n",
       "    </tr>\n",
       "  </thead>\n",
       "  <tbody>\n",
       "    <tr>\n",
       "      <th>0</th>\n",
       "      <td>1</td>\n",
       "      <td>37</td>\n",
       "      <td>11</td>\n",
       "      <td>1</td>\n",
       "      <td>0</td>\n",
       "      <td>1</td>\n",
       "      <td>1</td>\n",
       "      <td>0.0</td>\n",
       "      <td>0.0</td>\n",
       "      <td>9930.0460</td>\n",
       "      <td>1369.0</td>\n",
       "      <td>9930.0460</td>\n",
       "      <td>NaN</td>\n",
       "      <td>9930.0460</td>\n",
       "      <td>1</td>\n",
       "    </tr>\n",
       "    <tr>\n",
       "      <th>1</th>\n",
       "      <td>1</td>\n",
       "      <td>22</td>\n",
       "      <td>9</td>\n",
       "      <td>0</td>\n",
       "      <td>1</td>\n",
       "      <td>0</td>\n",
       "      <td>1</td>\n",
       "      <td>0.0</td>\n",
       "      <td>0.0</td>\n",
       "      <td>3595.8940</td>\n",
       "      <td>484.0</td>\n",
       "      <td>3595.8940</td>\n",
       "      <td>NaN</td>\n",
       "      <td>3595.8940</td>\n",
       "      <td>1</td>\n",
       "    </tr>\n",
       "    <tr>\n",
       "      <th>2</th>\n",
       "      <td>1</td>\n",
       "      <td>30</td>\n",
       "      <td>12</td>\n",
       "      <td>1</td>\n",
       "      <td>0</td>\n",
       "      <td>0</td>\n",
       "      <td>0</td>\n",
       "      <td>0.0</td>\n",
       "      <td>0.0</td>\n",
       "      <td>24909.4500</td>\n",
       "      <td>900.0</td>\n",
       "      <td>24909.4500</td>\n",
       "      <td>NaN</td>\n",
       "      <td>24909.4500</td>\n",
       "      <td>1</td>\n",
       "    </tr>\n",
       "    <tr>\n",
       "      <th>3</th>\n",
       "      <td>1</td>\n",
       "      <td>27</td>\n",
       "      <td>11</td>\n",
       "      <td>1</td>\n",
       "      <td>0</td>\n",
       "      <td>0</td>\n",
       "      <td>1</td>\n",
       "      <td>0.0</td>\n",
       "      <td>0.0</td>\n",
       "      <td>7506.1460</td>\n",
       "      <td>729.0</td>\n",
       "      <td>7506.1460</td>\n",
       "      <td>NaN</td>\n",
       "      <td>7506.1460</td>\n",
       "      <td>1</td>\n",
       "    </tr>\n",
       "    <tr>\n",
       "      <th>4</th>\n",
       "      <td>1</td>\n",
       "      <td>33</td>\n",
       "      <td>8</td>\n",
       "      <td>1</td>\n",
       "      <td>0</td>\n",
       "      <td>0</td>\n",
       "      <td>1</td>\n",
       "      <td>0.0</td>\n",
       "      <td>0.0</td>\n",
       "      <td>289.7899</td>\n",
       "      <td>1089.0</td>\n",
       "      <td>289.7899</td>\n",
       "      <td>NaN</td>\n",
       "      <td>289.7899</td>\n",
       "      <td>1</td>\n",
       "    </tr>\n",
       "  </tbody>\n",
       "</table>\n",
       "</div>"
      ],
      "text/plain": [
       "   treat  age  ed  black  hisp  married  nodeg  re74  re75        re78  \\\n",
       "0      1   37  11      1     0        1      1   0.0   0.0   9930.0460   \n",
       "1      1   22   9      0     1        0      1   0.0   0.0   3595.8940   \n",
       "2      1   30  12      1     0        0      0   0.0   0.0  24909.4500   \n",
       "3      1   27  11      1     0        0      1   0.0   0.0   7506.1460   \n",
       "4      1   33   8      1     0        0      1   0.0   0.0    289.7899   \n",
       "\n",
       "     age2           Y  Y_0         Y_1  D  \n",
       "0  1369.0   9930.0460  NaN   9930.0460  1  \n",
       "1   484.0   3595.8940  NaN   3595.8940  1  \n",
       "2   900.0  24909.4500  NaN  24909.4500  1  \n",
       "3   729.0   7506.1460  NaN   7506.1460  1  \n",
       "4  1089.0    289.7899  NaN    289.7899  1  "
      ]
     },
     "execution_count": 28,
     "metadata": {},
     "output_type": "execute_result"
    }
   ],
   "source": [
    "df = get_lalonde_data()\n",
    "df.head()"
   ]
  },
  {
   "cell_type": "code",
   "execution_count": 29,
   "metadata": {
    "slideshow": {
     "slide_type": "slide"
    }
   },
   "outputs": [
    {
     "data": {
      "text/html": [
       "<div>\n",
       "<style scoped>\n",
       "    .dataframe tbody tr th:only-of-type {\n",
       "        vertical-align: middle;\n",
       "    }\n",
       "\n",
       "    .dataframe tbody tr th {\n",
       "        vertical-align: top;\n",
       "    }\n",
       "\n",
       "    .dataframe thead th {\n",
       "        text-align: right;\n",
       "    }\n",
       "</style>\n",
       "<table border=\"1\" class=\"dataframe\">\n",
       "  <thead>\n",
       "    <tr style=\"text-align: right;\">\n",
       "      <th>treat</th>\n",
       "      <th>0</th>\n",
       "      <th>1</th>\n",
       "    </tr>\n",
       "  </thead>\n",
       "  <tbody>\n",
       "    <tr>\n",
       "      <th>black</th>\n",
       "      <td>0.826923</td>\n",
       "      <td>0.843243</td>\n",
       "    </tr>\n",
       "    <tr>\n",
       "      <th>married</th>\n",
       "      <td>0.153846</td>\n",
       "      <td>0.189189</td>\n",
       "    </tr>\n",
       "    <tr>\n",
       "      <th>hisp</th>\n",
       "      <td>0.107692</td>\n",
       "      <td>0.059459</td>\n",
       "    </tr>\n",
       "    <tr>\n",
       "      <th>re74</th>\n",
       "      <td>2107.026658</td>\n",
       "      <td>2095.573689</td>\n",
       "    </tr>\n",
       "    <tr>\n",
       "      <th>re75</th>\n",
       "      <td>1266.909002</td>\n",
       "      <td>1532.055314</td>\n",
       "    </tr>\n",
       "  </tbody>\n",
       "</table>\n",
       "</div>"
      ],
      "text/plain": [
       "treat              0            1\n",
       "black       0.826923     0.843243\n",
       "married     0.153846     0.189189\n",
       "hisp        0.107692     0.059459\n",
       "re74     2107.026658  2095.573689\n",
       "re75     1266.909002  1532.055314"
      ]
     },
     "execution_count": 29,
     "metadata": {},
     "output_type": "execute_result"
    }
   ],
   "source": [
    "example_covariates = [\"black\", \"married\", \"hispanic\",\"re75\"]\n",
    "df.groupby(\"treat\")[example_covariates].mean().T"
   ]
  },
  {
   "cell_type": "markdown",
   "metadata": {
    "slideshow": {
     "slide_type": "-"
    }
   },
   "source": [
    "The covariates are balanced before any reweighting thanks to the assignment mechanisms.\n",
    "\n"
   ]
  },
  {
   "cell_type": "markdown",
   "metadata": {
    "slideshow": {
     "slide_type": "slide"
    }
   },
   "source": [
    "Which matching algorihtm is the best?\n",
    "\n",
    "<img src=\"material/fig-matching-demonstration-four-benchmarking.png\" height=500 width=500 />"
   ]
  }
 ],
 "metadata": {
  "celltoolbar": "Slideshow",
  "kernelspec": {
   "display_name": "Python 3",
   "language": "python",
   "name": "python3"
  },
  "language_info": {
   "codemirror_mode": {
    "name": "ipython",
    "version": 3
   },
   "file_extension": ".py",
   "mimetype": "text/x-python",
   "name": "python",
   "nbconvert_exporter": "python",
   "pygments_lexer": "ipython3",
   "version": "3.7.7"
  },
  "pycharm": {
   "stem_cell": {
    "cell_type": "raw",
    "metadata": {
     "collapsed": false
    },
    "source": []
   }
  },
  "varInspector": {
   "cols": {
    "lenName": 16,
    "lenType": 16,
    "lenVar": 40
   },
   "kernels_config": {
    "python": {
     "delete_cmd_postfix": "",
     "delete_cmd_prefix": "del ",
     "library": "var_list.py",
     "varRefreshCmd": "print(var_dic_list())"
    },
    "r": {
     "delete_cmd_postfix": ") ",
     "delete_cmd_prefix": "rm(",
     "library": "var_list.r",
     "varRefreshCmd": "cat(var_dic_list()) "
    }
   },
   "types_to_exclude": [
    "module",
    "function",
    "builtin_function_or_method",
    "instance",
    "_Feature"
   ],
   "window_display": false
  }
 },
 "nbformat": 4,
 "nbformat_minor": 4
}
