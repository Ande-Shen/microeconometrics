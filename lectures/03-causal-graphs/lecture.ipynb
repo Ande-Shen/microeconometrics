{
 "cells": [
  {
   "cell_type": "code",
   "execution_count": 1,
   "metadata": {
    "slideshow": {
     "slide_type": "skip"
    }
   },
   "outputs": [],
   "source": [
    "%matplotlib inline\n",
    "\n",
    "import matplotlib.pyplot as plt\n",
    "import scipy.stats as stats\n",
    "import seaborn as sns\n",
    "import pandas as pd\n",
    "import numpy as np\n",
    "\n",
    "from auxiliary import *"
   ]
  },
  {
   "cell_type": "markdown",
   "metadata": {
    "slideshow": {
     "slide_type": "slide"
    }
   },
   "source": [
    "---\n",
    "# Lecture 3: Causal graphs\n",
    "---"
   ]
  },
  {
   "cell_type": "markdown",
   "metadata": {
    "slideshow": {
     "slide_type": "slide"
    }
   },
   "source": [
    "**Agenda**\n",
    "\n",
    "* Basic elements of causal graphs\n",
    "* Causal graphs and structural equation\n",
    "* Causal graphs and the potential outcome model"
   ]
  },
  {
   "cell_type": "markdown",
   "metadata": {
    "slideshow": {
     "slide_type": "slide"
    }
   },
   "source": [
    "Graph notation less general than potential outcome framework, but \n",
    "\n",
    "* thinking about causal systems\n",
    "* uncover identification strategies\n",
    "\n",
    "> It is useful to separate the inferential problem into statistical and identification components. Studies of identification seek to characterize the conclusions that could be drawn if one could use the sampling process to obtain an unlimited number of observations. (Manski, 1995)"
   ]
  },
  {
   "cell_type": "markdown",
   "metadata": {
    "slideshow": {
     "slide_type": "slide"
    }
   },
   "source": [
    "The two most crucial ingredients for an identification analysis are:\n",
    "\n",
    "* The set of assumptions about causal relationships that the analysis is willing to assert based on theory and past research, including assumptions about relationships between variables that have not been observed but that are related both to the cause and outcome of interest."
   ]
  },
  {
   "cell_type": "markdown",
   "metadata": {
    "slideshow": {
     "slide_type": "slide"
    }
   },
   "source": [
    "* The pattern of information one can assume would be contained in the joint distribution of the variables in the observed dataset if all members of the population had been included in the sample that generated the dataset.\n",
    "\n",
    "$\\rightarrow$ causal graphs offer an effective and efficient representation for both"
   ]
  },
  {
   "cell_type": "markdown",
   "metadata": {},
   "source": [
    "---\n",
    "## Basic elements of causal graphs\n",
    "---"
   ]
  },
  {
   "cell_type": "markdown",
   "metadata": {
    "slideshow": {
     "slide_type": "slide"
    }
   },
   "source": [
    "* nodes\n",
    "* edges\n",
    "* directed paths\n",
    "    * parent and child\n",
    "    * decendent"
   ]
  },
  {
   "cell_type": "markdown",
   "metadata": {
    "slideshow": {
     "slide_type": "-"
    }
   },
   "source": [
    "<img src=\"material/graph_with_cycle.png\" height=\"200\" width=200 />"
   ]
  },
  {
   "cell_type": "markdown",
   "metadata": {
    "slideshow": {
     "slide_type": "slide"
    }
   },
   "source": [
    "Two representations of the joint depdendence of $A$ and $B$ on an unobserved common cause.\n",
    "\n",
    "<img src=\"material/graph_shorthand_unobserved_common_cause.png\" height=\"500\" width=500 />"
   ]
  },
  {
   "cell_type": "markdown",
   "metadata": {
    "slideshow": {
     "slide_type": "slide"
    }
   },
   "source": [
    "Let's look at some basic patterns that will turn out to appear frequently.\n",
    "\n",
    "* chain of mediation\n",
    "* fork of mutual causation\n",
    "* inverted fork of mutual dependence, **collider variable**"
   ]
  },
  {
   "cell_type": "markdown",
   "metadata": {
    "slideshow": {
     "slide_type": "slide"
    }
   },
   "source": [
    "<img src=\"material/basic_causal_relationships.png\" height=\"200\" width=200 />\n",
    "\n",
    "What about the unconditional and conditional association of $A$ and $B$ in each of these cases?"
   ]
  },
  {
   "cell_type": "markdown",
   "metadata": {
    "slideshow": {
     "slide_type": "slide"
    }
   },
   "source": [
    "### Conditioning and confounding\n",
    "\n",
    "<img src=\"material/confounding_variable.png\" height=\"500\" width=500 />\n",
    "\n",
    "* $C$ is a **confounding variable** that affects both the dependent and independent variable.\n",
    "\n",
    "* Conditioning is a modelig strategy that allows to determine causal effects in the presence of observed confounders.\n",
    "\n",
    "$\\rightarrow$ What happens if $C$ is unobserved?"
   ]
  },
  {
   "cell_type": "markdown",
   "metadata": {
    "slideshow": {
     "slide_type": "slide"
    }
   },
   "source": [
    "How about an example from educational choice where we have observed and unobserved confounders?\n",
    "\n",
    "<img src=\"material/fig-confounders-education.png\" height=500 width=500 />\n",
    "\n",
    "What identification strategies come to mind?"
   ]
  },
  {
   "cell_type": "markdown",
   "metadata": {},
   "source": [
    "---\n",
    "## Graphs and structural equations\n",
    "---"
   ]
  },
  {
   "cell_type": "markdown",
   "metadata": {
    "slideshow": {
     "slide_type": "slide"
    }
   },
   "source": [
    "Let's look at another example and assume we are interested in the effect of parental background (P), charter schools (D), and neighborhoods (N) on test scores (Y).\n",
    "\n",
    "We could set up the following **linear** regression equations:\n",
    "\n",
    "\\begin{align*}\n",
    "D & = \\alpha_D + b_P P + \\epsilon_D \\\\\n",
    "Y & = \\alpha_Y + b_D D + b_P P + + b_N N + \\epsilon_Y\n",
    "\\end{align*}"
   ]
  },
  {
   "cell_type": "markdown",
   "metadata": {
    "slideshow": {
     "slide_type": "slide"
    }
   },
   "source": [
    "<img src=\"material/fig-equivalent-representations-standard.png\" height=500 width=500 />"
   ]
  },
  {
   "cell_type": "markdown",
   "metadata": {
    "slideshow": {
     "slide_type": "slide"
    }
   },
   "source": [
    "<img src=\"material/fig-equivalent-representations-magnified.png\" height=500 width=500 />"
   ]
  },
  {
   "cell_type": "markdown",
   "metadata": {
    "slideshow": {
     "slide_type": "slide"
    }
   },
   "source": [
    "We can set up the same *nonparametric* structural equations for both representations:\n",
    "\n",
    "\\begin{align*}\n",
    "P & = f_P(\\epsilon_1)    \\\\\n",
    "N & = f_N(\\epsilon_3) \\\\\n",
    "D & = f_D(P, \\epsilon_2) \\\\\n",
    "Y & = f_Y(P, D, N, \\epsilon_4)\n",
    "\\end{align*}"
   ]
  },
  {
   "cell_type": "markdown",
   "metadata": {},
   "source": [
    "How to simulate a sample from a set of structural equations?"
   ]
  },
  {
   "cell_type": "code",
   "execution_count": 6,
   "metadata": {
    "slideshow": {
     "slide_type": "slide"
    }
   },
   "outputs": [
    {
     "data": {
      "text/html": [
       "<div>\n",
       "<style scoped>\n",
       "    .dataframe tbody tr th:only-of-type {\n",
       "        vertical-align: middle;\n",
       "    }\n",
       "\n",
       "    .dataframe tbody tr th {\n",
       "        vertical-align: top;\n",
       "    }\n",
       "\n",
       "    .dataframe thead th {\n",
       "        text-align: right;\n",
       "    }\n",
       "</style>\n",
       "<table border=\"1\" class=\"dataframe\">\n",
       "  <thead>\n",
       "    <tr style=\"text-align: right;\">\n",
       "      <th></th>\n",
       "      <th>Y</th>\n",
       "      <th>D</th>\n",
       "      <th>P</th>\n",
       "      <th>N</th>\n",
       "    </tr>\n",
       "  </thead>\n",
       "  <tbody>\n",
       "    <tr>\n",
       "      <th>0</th>\n",
       "      <td>-0.367347</td>\n",
       "      <td>1.229316</td>\n",
       "      <td>0.666897</td>\n",
       "      <td>0.591378</td>\n",
       "    </tr>\n",
       "    <tr>\n",
       "      <th>1</th>\n",
       "      <td>3.698297</td>\n",
       "      <td>2.586678</td>\n",
       "      <td>0.530876</td>\n",
       "      <td>0.989849</td>\n",
       "    </tr>\n",
       "    <tr>\n",
       "      <th>2</th>\n",
       "      <td>1.243356</td>\n",
       "      <td>1.674700</td>\n",
       "      <td>0.901792</td>\n",
       "      <td>0.923555</td>\n",
       "    </tr>\n",
       "    <tr>\n",
       "      <th>3</th>\n",
       "      <td>3.421326</td>\n",
       "      <td>2.029208</td>\n",
       "      <td>0.577457</td>\n",
       "      <td>0.027872</td>\n",
       "    </tr>\n",
       "    <tr>\n",
       "      <th>4</th>\n",
       "      <td>1.063513</td>\n",
       "      <td>0.581387</td>\n",
       "      <td>0.297275</td>\n",
       "      <td>0.478801</td>\n",
       "    </tr>\n",
       "  </tbody>\n",
       "</table>\n",
       "</div>"
      ],
      "text/plain": [
       "          Y         D         P         N\n",
       "0 -0.367347  1.229316  0.666897  0.591378\n",
       "1  3.698297  2.586678  0.530876  0.989849\n",
       "2  1.243356  1.674700  0.901792  0.923555\n",
       "3  3.421326  2.029208  0.577457  0.027872\n",
       "4  1.063513  0.581387  0.297275  0.478801"
      ]
     },
     "execution_count": 6,
     "metadata": {},
     "output_type": "execute_result"
    }
   ],
   "source": [
    "# parametrization of linear equations\n",
    "alpha_D = 1\n",
    "alpha_Y = 1\n",
    "\n",
    "beta_P = 0.8\n",
    "beta_N = 0.7\n",
    "beta_D = -0.3\n",
    "\n",
    "# distributional assumptions\n",
    "get_unobservable = np.random.normal\n",
    "get_observable = np.random.uniform\n",
    "\n",
    "num_agents = 10000\n",
    "data = np.tile(np.nan, (num_agents, 4))\n",
    "for i in range(num_agents):\n",
    "    P = get_observable()\n",
    "    N = get_observable()\n",
    "    D = alpha_D + beta_P * P + get_unobservable()\n",
    "    Y = alpha_Y + beta_D * D + beta_P * P + beta_N * N + get_unobservable()\n",
    "    data[i, :] = [Y, D, P, N]\n",
    "\n",
    "df = pd.DataFrame(data, columns=['Y', 'D', 'P', 'N'])\n",
    "df.head()"
   ]
  },
  {
   "cell_type": "markdown",
   "metadata": {
    "slideshow": {
     "slide_type": "slide"
    }
   },
   "source": [
    "Now lets see if we can uncover the structural parameters by a simple ordinary-least-squares regression and thus go full circle from a parametric structural equation model to a causal graph."
   ]
  },
  {
   "cell_type": "code",
   "execution_count": 7,
   "metadata": {
    "slideshow": {
     "slide_type": "slide"
    }
   },
   "outputs": [
    {
     "data": {
      "text/html": [
       "<table class=\"simpletable\">\n",
       "<caption>OLS Regression Results</caption>\n",
       "<tr>\n",
       "  <th>Dep. Variable:</th>            <td>Y</td>        <th>  R-squared:         </th> <td>   0.132</td> \n",
       "</tr>\n",
       "<tr>\n",
       "  <th>Model:</th>                   <td>OLS</td>       <th>  Adj. R-squared:    </th> <td>   0.132</td> \n",
       "</tr>\n",
       "<tr>\n",
       "  <th>Method:</th>             <td>Least Squares</td>  <th>  F-statistic:       </th> <td>   508.7</td> \n",
       "</tr>\n",
       "<tr>\n",
       "  <th>Date:</th>             <td>Tue, 16 Apr 2019</td> <th>  Prob (F-statistic):</th> <td>1.22e-307</td>\n",
       "</tr>\n",
       "<tr>\n",
       "  <th>Time:</th>                 <td>09:51:49</td>     <th>  Log-Likelihood:    </th> <td> -14200.</td> \n",
       "</tr>\n",
       "<tr>\n",
       "  <th>No. Observations:</th>      <td> 10000</td>      <th>  AIC:               </th> <td>2.841e+04</td>\n",
       "</tr>\n",
       "<tr>\n",
       "  <th>Df Residuals:</th>          <td>  9996</td>      <th>  BIC:               </th> <td>2.844e+04</td>\n",
       "</tr>\n",
       "<tr>\n",
       "  <th>Df Model:</th>              <td>     3</td>      <th>                     </th>     <td> </td>    \n",
       "</tr>\n",
       "<tr>\n",
       "  <th>Covariance Type:</th>      <td>nonrobust</td>    <th>                     </th>     <td> </td>    \n",
       "</tr>\n",
       "</table>\n",
       "<table class=\"simpletable\">\n",
       "<tr>\n",
       "      <td></td>         <th>coef</th>     <th>std err</th>      <th>t</th>      <th>P>|t|</th>  <th>[0.025</th>    <th>0.975]</th>  \n",
       "</tr>\n",
       "<tr>\n",
       "  <th>Intercept</th> <td>    0.9806</td> <td>    0.028</td> <td>   34.780</td> <td> 0.000</td> <td>    0.925</td> <td>    1.036</td>\n",
       "</tr>\n",
       "<tr>\n",
       "  <th>D</th>         <td>   -0.2869</td> <td>    0.010</td> <td>  -28.793</td> <td> 0.000</td> <td>   -0.306</td> <td>   -0.267</td>\n",
       "</tr>\n",
       "<tr>\n",
       "  <th>P</th>         <td>    0.8143</td> <td>    0.036</td> <td>   22.834</td> <td> 0.000</td> <td>    0.744</td> <td>    0.884</td>\n",
       "</tr>\n",
       "<tr>\n",
       "  <th>N</th>         <td>    0.7017</td> <td>    0.035</td> <td>   20.301</td> <td> 0.000</td> <td>    0.634</td> <td>    0.769</td>\n",
       "</tr>\n",
       "</table>\n",
       "<table class=\"simpletable\">\n",
       "<tr>\n",
       "  <th>Omnibus:</th>       <td> 1.250</td> <th>  Durbin-Watson:     </th> <td>   1.986</td>\n",
       "</tr>\n",
       "<tr>\n",
       "  <th>Prob(Omnibus):</th> <td> 0.535</td> <th>  Jarque-Bera (JB):  </th> <td>   1.245</td>\n",
       "</tr>\n",
       "<tr>\n",
       "  <th>Skew:</th>          <td>-0.027</td> <th>  Prob(JB):          </th> <td>   0.537</td>\n",
       "</tr>\n",
       "<tr>\n",
       "  <th>Kurtosis:</th>      <td> 3.001</td> <th>  Cond. No.          </th> <td>    8.68</td>\n",
       "</tr>\n",
       "</table><br/><br/>Warnings:<br/>[1] Standard Errors assume that the covariance matrix of the errors is correctly specified."
      ],
      "text/plain": [
       "<class 'statsmodels.iolib.summary.Summary'>\n",
       "\"\"\"\n",
       "                            OLS Regression Results                            \n",
       "==============================================================================\n",
       "Dep. Variable:                      Y   R-squared:                       0.132\n",
       "Model:                            OLS   Adj. R-squared:                  0.132\n",
       "Method:                 Least Squares   F-statistic:                     508.7\n",
       "Date:                Tue, 16 Apr 2019   Prob (F-statistic):          1.22e-307\n",
       "Time:                        09:51:49   Log-Likelihood:                -14200.\n",
       "No. Observations:               10000   AIC:                         2.841e+04\n",
       "Df Residuals:                    9996   BIC:                         2.844e+04\n",
       "Df Model:                           3                                         \n",
       "Covariance Type:            nonrobust                                         \n",
       "==============================================================================\n",
       "                 coef    std err          t      P>|t|      [0.025      0.975]\n",
       "------------------------------------------------------------------------------\n",
       "Intercept      0.9806      0.028     34.780      0.000       0.925       1.036\n",
       "D             -0.2869      0.010    -28.793      0.000      -0.306      -0.267\n",
       "P              0.8143      0.036     22.834      0.000       0.744       0.884\n",
       "N              0.7017      0.035     20.301      0.000       0.634       0.769\n",
       "==============================================================================\n",
       "Omnibus:                        1.250   Durbin-Watson:                   1.986\n",
       "Prob(Omnibus):                  0.535   Jarque-Bera (JB):                1.245\n",
       "Skew:                          -0.027   Prob(JB):                        0.537\n",
       "Kurtosis:                       3.001   Cond. No.                         8.68\n",
       "==============================================================================\n",
       "\n",
       "Warnings:\n",
       "[1] Standard Errors assume that the covariance matrix of the errors is correctly specified.\n",
       "\"\"\""
      ]
     },
     "execution_count": 7,
     "metadata": {},
     "output_type": "execute_result"
    }
   ],
   "source": [
    "import statsmodels.api as sm\n",
    "from patsy import dmatrices\n",
    "\n",
    "y, x = dmatrices('Y ~ D + P + N', data = df)\n",
    "model_spec = sm.OLS(y, x)\n",
    "model_spec.fit().summary()"
   ]
  },
  {
   "cell_type": "markdown",
   "metadata": {},
   "source": [
    "---\n",
    "## Graphs and the potential outcome model\n",
    "---"
   ]
  },
  {
   "cell_type": "markdown",
   "metadata": {
    "slideshow": {
     "slide_type": "slide"
    }
   },
   "source": [
    "Advantages of the potential outcome model\n",
    "\n",
    "* definition of causal states\n",
    "* individual effects as first principle\n",
    "* decomposition of sources of inconsistency\n",
    "* ...\n",
    "\n",
    "However, it is hard to manage the notion for larger causal systems with many confounding variables and treatments."
   ]
  },
  {
   "cell_type": "markdown",
   "metadata": {
    "slideshow": {
     "slide_type": "slide"
    }
   },
   "source": [
    "<img src=\"material/fig-observed-confounding-variable.png\" height=500 width=500 />\n",
    "\n",
    "Based on our previous discussion, unfortunately, $E[Y_1 - Y_0] \\neq E[Y\\mid D = 1] - E[Y\\mid D = 1]$. "
   ]
  },
  {
   "cell_type": "markdown",
   "metadata": {
    "slideshow": {
     "slide_type": "slide"
    }
   },
   "source": [
    "How can we define the treatment effects from the potential outcome model in here?\n",
    "\n",
    "> Interventions and counterfactuals are defined through a mathematical operator called $do(\\cdot)$, which simulates physical interventions by deleting certain functions from the model, replacing them with a constant. (Pearl, 2012)\n",
    "\n",
    "\\begin{align*}\n",
    "E[Y_1 - Y_0 ]\\quad\\text{corresponds to}\\quad E[Y \\mid do(D=1)] - E[Y \\mid do(D=0)]\n",
    "\\end{align*}"
   ]
  },
  {
   "cell_type": "markdown",
   "metadata": {
    "slideshow": {
     "slide_type": "slide"
    }
   },
   "source": [
    "Graphical presentation of $do(\\cdot)$ operator\n",
    "\n",
    "<img src=\"material/fig-mutilated-graph.png\" height=500 width=500 />"
   ]
  },
  {
   "cell_type": "markdown",
   "metadata": {
    "slideshow": {
     "slide_type": "slide"
    }
   },
   "source": [
    "The $do(\\cdot)$ operator induces a key distinction between the **conditional distribution** of the endogenous variable and its **interventional distribution**.\n",
    "\n",
    "Let's simulate a sample from a parametrized version of the graph above."
   ]
  },
  {
   "cell_type": "code",
   "execution_count": 8,
   "metadata": {
    "slideshow": {
     "slide_type": "slide"
    }
   },
   "outputs": [
    {
     "data": {
      "text/html": [
       "<div>\n",
       "<style scoped>\n",
       "    .dataframe tbody tr th:only-of-type {\n",
       "        vertical-align: middle;\n",
       "    }\n",
       "\n",
       "    .dataframe tbody tr th {\n",
       "        vertical-align: top;\n",
       "    }\n",
       "\n",
       "    .dataframe thead th {\n",
       "        text-align: right;\n",
       "    }\n",
       "</style>\n",
       "<table border=\"1\" class=\"dataframe\">\n",
       "  <thead>\n",
       "    <tr style=\"text-align: right;\">\n",
       "      <th></th>\n",
       "      <th>Y</th>\n",
       "      <th>D</th>\n",
       "      <th>C</th>\n",
       "    </tr>\n",
       "  </thead>\n",
       "  <tbody>\n",
       "    <tr>\n",
       "      <th>0</th>\n",
       "      <td>0.696469</td>\n",
       "      <td>0.0</td>\n",
       "      <td>0.696469</td>\n",
       "    </tr>\n",
       "    <tr>\n",
       "      <th>1</th>\n",
       "      <td>1.226851</td>\n",
       "      <td>1.0</td>\n",
       "      <td>0.226851</td>\n",
       "    </tr>\n",
       "    <tr>\n",
       "      <th>2</th>\n",
       "      <td>0.719469</td>\n",
       "      <td>0.0</td>\n",
       "      <td>0.719469</td>\n",
       "    </tr>\n",
       "    <tr>\n",
       "      <th>3</th>\n",
       "      <td>0.980764</td>\n",
       "      <td>0.0</td>\n",
       "      <td>0.980764</td>\n",
       "    </tr>\n",
       "    <tr>\n",
       "      <th>4</th>\n",
       "      <td>0.480932</td>\n",
       "      <td>0.0</td>\n",
       "      <td>0.480932</td>\n",
       "    </tr>\n",
       "  </tbody>\n",
       "</table>\n",
       "</div>"
      ],
      "text/plain": [
       "          Y    D         C\n",
       "0  0.696469  0.0  0.696469\n",
       "1  1.226851  1.0  0.226851\n",
       "2  0.719469  0.0  0.719469\n",
       "3  0.980764  0.0  0.980764\n",
       "4  0.480932  0.0  0.480932"
      ]
     },
     "execution_count": 8,
     "metadata": {},
     "output_type": "execute_result"
    }
   ],
   "source": [
    "np.random.seed(123)\n",
    "\n",
    "num_agents = 1000\n",
    "data = np.tile(np.nan, (num_agents, 3))\n",
    "\n",
    "def calculate_outcome(C, D):\n",
    "    \"\"\"We compute the observed outcome.\"\"\"\n",
    "    Y = D + C\n",
    "    \n",
    "    # If you would like to have it in potential\n",
    "    # outcome notation.\n",
    "    Y_1 = 1 + C\n",
    "    Y_0 = 0 + C\n",
    "    Y = D * Y_1 + (1 - D) * Y_1\n",
    "    \n",
    "    # So what is the individual treatment effect?\n",
    "    delta = Y_1 - Y_0\n",
    "        \n",
    "    return D + C \n",
    "    \n",
    "\n",
    "for i in range(num_agents):\n",
    "    C = np.random.uniform()\n",
    "    D = np.random.choice([0, 1], p=[C, 1 - C])\n",
    "    Y = calculate_outcome(C, D)\n",
    "    data[i, :] = [Y, D, C]\n",
    "\n",
    "df = pd.DataFrame(data, columns=['Y', 'D', 'C'])\n",
    "df.head()"
   ]
  },
  {
   "cell_type": "markdown",
   "metadata": {
    "slideshow": {
     "slide_type": "slide"
    }
   },
   "source": [
    "We know how to compute and plot a conditional distribution."
   ]
  },
  {
   "cell_type": "code",
   "execution_count": 9,
   "metadata": {
    "slideshow": {
     "slide_type": "slide"
    }
   },
   "outputs": [
    {
     "data": {
      "image/png": "[encoded data removed]",
      "text/plain": [
       "<Figure size 432x288 with 2 Axes>"
      ]
     },
     "metadata": {
      "needs_background": "light"
     },
     "output_type": "display_data"
    }
   ],
   "source": [
    "plot_conditional_distribution(df)"
   ]
  },
  {
   "cell_type": "markdown",
   "metadata": {
    "slideshow": {
     "slide_type": "slide"
    }
   },
   "source": [
    "How can we compute the interventional distribution? What do we need to know to do that?"
   ]
  },
  {
   "cell_type": "code",
   "execution_count": 10,
   "metadata": {
    "slideshow": {
     "slide_type": "slide"
    }
   },
   "outputs": [
    {
     "data": {
      "image/png": "[encoded data removed]",
      "text/plain": [
       "<Figure size 432x288 with 2 Axes>"
      ]
     },
     "metadata": {
      "needs_background": "light"
     },
     "output_type": "display_data"
    }
   ],
   "source": [
    "Y_do_1, Y_do_0 = list(), list()\n",
    "for i, row in df.iterrows():\n",
    "    # Note that we calculate the outcome using the \n",
    "    # individual\"s actual C put simply set D to\n",
    "    # its value unter the intervetion.\n",
    "    C, D = row['C'], 1\n",
    "    Y_do_1 += [calculate_outcome(C, D)]\n",
    "\n",
    "    C, D = row['C'], 0            \n",
    "    Y_do_0 += [calculate_outcome(C, D)]\n",
    "\n",
    "plot_interventional_distribution(Y_do_1, Y_do_0)"
   ]
  },
  {
   "cell_type": "code",
   "execution_count": null,
   "metadata": {
    "slideshow": {
     "slide_type": "slide"
    }
   },
   "outputs": [],
   "source": [
    "# We are now able to compute the causal effect of D on Y.\n",
    "stat = np.mean(Y_do_1) - np.mean(Y_do_0)\n",
    "print('We estimate a causal effect of {:10.5f}'.format(stat))"
   ]
  },
  {
   "cell_type": "markdown",
   "metadata": {},
   "source": [
    "---\n",
    "## References\n",
    "---"
   ]
  },
  {
   "cell_type": "markdown",
   "metadata": {},
   "source": [
    "* **Manski, C. F. (1995)**. *Identification problems in the social sciences*. Cambridge, UK: Harvard University Press.  \n",
    "\n",
    "\n",
    "* **Pearl, J. (2012)**. The do-calculus revisited. *arXiv preprint arXiv:1210.4852*."
   ]
  }
 ],
 "metadata": {
  "celltoolbar": "Slideshow",
  "kernelspec": {
   "display_name": "Python 3",
   "language": "python",
   "name": "python3"
  },
  "language_info": {
   "codemirror_mode": {
    "name": "ipython",
    "version": 3
   },
   "file_extension": ".py",
   "mimetype": "text/x-python",
   "name": "python",
   "nbconvert_exporter": "python",
   "pygments_lexer": "ipython3",
   "version": "3.7.6"
  },
  "pycharm": {
   "stem_cell": {
    "cell_type": "raw",
    "metadata": {
     "collapsed": false
    },
    "source": []
   }
  },
  "varInspector": {
   "cols": {
    "lenName": 16,
    "lenType": 16,
    "lenVar": 40
   },
   "kernels_config": {
    "python": {
     "delete_cmd_postfix": "",
     "delete_cmd_prefix": "del ",
     "library": "var_list.py",
     "varRefreshCmd": "print(var_dic_list())"
    },
    "r": {
     "delete_cmd_postfix": ") ",
     "delete_cmd_prefix": "rm(",
     "library": "var_list.r",
     "varRefreshCmd": "cat(var_dic_list()) "
    }
   },
   "types_to_exclude": [
    "module",
    "function",
    "builtin_function_or_method",
    "instance",
    "_Feature"
   ],
   "window_display": false
  }
 },
 "nbformat": 4,
 "nbformat_minor": 4
}
